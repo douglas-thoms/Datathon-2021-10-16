{
 "cells": [
  {
   "cell_type": "code",
   "execution_count": 16,
   "metadata": {},
   "outputs": [],
   "source": [
    "# import dependencies\n",
    "import pandas as pd\n",
    "import datetime as dt\n",
    "import numpy as np\n",
    "import matplotlib.pyplot as plt\n",
    "import seaborn as sns"
   ]
  },
  {
   "cell_type": "code",
   "execution_count": 7,
   "metadata": {},
   "outputs": [],
   "source": [
    "# read csvs into DF\n",
    "\n",
    "org_profile = pd.read_csv('Data/organization_profiles.csv')\n",
    "\n",
    "tweets1 = pd.read_csv('Data/tweets_all_revised2.csv')\n",
    "\n",
    "tweets2 = pd.read_excel('Data/tweets_all_revised2.xlsx')"
   ]
  },
  {
   "cell_type": "code",
   "execution_count": 19,
   "metadata": {},
   "outputs": [
    {
     "data": {
      "text/html": [
       "<div>\n",
       "<style scoped>\n",
       "    .dataframe tbody tr th:only-of-type {\n",
       "        vertical-align: middle;\n",
       "    }\n",
       "\n",
       "    .dataframe tbody tr th {\n",
       "        vertical-align: top;\n",
       "    }\n",
       "\n",
       "    .dataframe thead th {\n",
       "        text-align: right;\n",
       "    }\n",
       "</style>\n",
       "<table border=\"1\" class=\"dataframe\">\n",
       "  <thead>\n",
       "    <tr style=\"text-align: right;\">\n",
       "      <th></th>\n",
       "      <th>Unnamed: 0</th>\n",
       "      <th>Organization Name</th>\n",
       "      <th>twitter_handle</th>\n",
       "      <th>screen_name</th>\n",
       "      <th>agency_catergory</th>\n",
       "      <th>followers_count</th>\n",
       "      <th>friends_count</th>\n",
       "      <th>location</th>\n",
       "    </tr>\n",
       "  </thead>\n",
       "  <tbody>\n",
       "    <tr>\n",
       "      <th>0</th>\n",
       "      <td>0</td>\n",
       "      <td>Adults In Motion</td>\n",
       "      <td>@AIMkitchener</td>\n",
       "      <td>AIMkitchener</td>\n",
       "      <td>Disabilities</td>\n",
       "      <td>662</td>\n",
       "      <td>800</td>\n",
       "      <td>Kitchener, Ontario</td>\n",
       "    </tr>\n",
       "    <tr>\n",
       "      <th>1</th>\n",
       "      <td>1</td>\n",
       "      <td>African Family Revival Organization</td>\n",
       "      <td>@AFROKitchener</td>\n",
       "      <td>AFROKitchener</td>\n",
       "      <td>Arts, Culture and Heritage</td>\n",
       "      <td>125</td>\n",
       "      <td>64</td>\n",
       "      <td>Kitchener, Ontario</td>\n",
       "    </tr>\n",
       "    <tr>\n",
       "      <th>2</th>\n",
       "      <td>2</td>\n",
       "      <td>Alzheimer Society of Waterloo Wellington</td>\n",
       "      <td>@alzsocww</td>\n",
       "      <td>alzsocww</td>\n",
       "      <td>Seniors</td>\n",
       "      <td>1376</td>\n",
       "      <td>432</td>\n",
       "      <td>Waterloo Wellington, Ontario</td>\n",
       "    </tr>\n",
       "    <tr>\n",
       "      <th>3</th>\n",
       "      <td>3</td>\n",
       "      <td>Big Brothers Big Sisters of Waterloo Region</td>\n",
       "      <td>@BBBSWR</td>\n",
       "      <td>BBBSWR</td>\n",
       "      <td>Children, Youth and Family</td>\n",
       "      <td>2462</td>\n",
       "      <td>1551</td>\n",
       "      <td>Waterloo Region</td>\n",
       "    </tr>\n",
       "    <tr>\n",
       "      <th>4</th>\n",
       "      <td>4</td>\n",
       "      <td>Bridges to Belonging</td>\n",
       "      <td>@BtoBelonging</td>\n",
       "      <td>BtoBelonging</td>\n",
       "      <td>Disabilities</td>\n",
       "      <td>1432</td>\n",
       "      <td>1254</td>\n",
       "      <td>Waterloo Region</td>\n",
       "    </tr>\n",
       "  </tbody>\n",
       "</table>\n",
       "</div>"
      ],
      "text/plain": [
       "   Unnamed: 0                            Organization Name  twitter_handle  \\\n",
       "0           0                             Adults In Motion   @AIMkitchener   \n",
       "1           1          African Family Revival Organization  @AFROKitchener   \n",
       "2           2     Alzheimer Society of Waterloo Wellington       @alzsocww   \n",
       "3           3  Big Brothers Big Sisters of Waterloo Region         @BBBSWR   \n",
       "4           4                         Bridges to Belonging   @BtoBelonging   \n",
       "\n",
       "     screen_name            agency_catergory  followers_count  friends_count  \\\n",
       "0   AIMkitchener                Disabilities              662            800   \n",
       "1  AFROKitchener  Arts, Culture and Heritage              125             64   \n",
       "2       alzsocww                     Seniors             1376            432   \n",
       "3         BBBSWR  Children, Youth and Family             2462           1551   \n",
       "4   BtoBelonging                Disabilities             1432           1254   \n",
       "\n",
       "                       location  \n",
       "0            Kitchener, Ontario  \n",
       "1            Kitchener, Ontario  \n",
       "2  Waterloo Wellington, Ontario  \n",
       "3               Waterloo Region  \n",
       "4               Waterloo Region  "
      ]
     },
     "execution_count": 19,
     "metadata": {},
     "output_type": "execute_result"
    }
   ],
   "source": [
    "org_profile.head()"
   ]
  },
  {
   "cell_type": "code",
   "execution_count": 20,
   "metadata": {},
   "outputs": [
    {
     "data": {
      "text/html": [
       "<div>\n",
       "<style scoped>\n",
       "    .dataframe tbody tr th:only-of-type {\n",
       "        vertical-align: middle;\n",
       "    }\n",
       "\n",
       "    .dataframe tbody tr th {\n",
       "        vertical-align: top;\n",
       "    }\n",
       "\n",
       "    .dataframe thead th {\n",
       "        text-align: right;\n",
       "    }\n",
       "</style>\n",
       "<table border=\"1\" class=\"dataframe\">\n",
       "  <thead>\n",
       "    <tr style=\"text-align: right;\">\n",
       "      <th></th>\n",
       "      <th>tweet_id</th>\n",
       "      <th>user_id</th>\n",
       "      <th>created_at</th>\n",
       "      <th>screen_name</th>\n",
       "      <th>text</th>\n",
       "      <th>urls</th>\n",
       "      <th>favorite_count</th>\n",
       "      <th>retweet_count</th>\n",
       "      <th>URL</th>\n",
       "      <th>hashtags</th>\n",
       "      <th>has_media</th>\n",
       "      <th>is_quote</th>\n",
       "      <th>is_reply</th>\n",
       "      <th>is_retweet</th>\n",
       "      <th>Organization Name</th>\n",
       "      <th>text_clean</th>\n",
       "    </tr>\n",
       "  </thead>\n",
       "  <tbody>\n",
       "    <tr>\n",
       "      <th>0</th>\n",
       "      <td>0</td>\n",
       "      <td>885747516</td>\n",
       "      <td>2021-02-26 17:59:51</td>\n",
       "      <td>AIMkitchener</td>\n",
       "      <td>🍅 What will your garden look like this year? 🪴...</td>\n",
       "      <td>['https://t.co/g1djW5JMVT']</td>\n",
       "      <td>2.0</td>\n",
       "      <td>0.0</td>\n",
       "      <td>https://twitter.com/i/web/status/1365360946378...</td>\n",
       "      <td>[]</td>\n",
       "      <td>False</td>\n",
       "      <td>False</td>\n",
       "      <td>False</td>\n",
       "      <td>False</td>\n",
       "      <td>Adults In Motion</td>\n",
       "      <td>What will your garden look like this year  \\n...</td>\n",
       "    </tr>\n",
       "    <tr>\n",
       "      <th>1</th>\n",
       "      <td>1</td>\n",
       "      <td>885747516</td>\n",
       "      <td>2021-02-24 19:34:45</td>\n",
       "      <td>AIMkitchener</td>\n",
       "      <td>Virtual connecting is not the next big thing, ...</td>\n",
       "      <td>['https://t.co/b1Ts6V60hS']</td>\n",
       "      <td>1.0</td>\n",
       "      <td>0.0</td>\n",
       "      <td>https://twitter.com/i/web/status/1364660054046...</td>\n",
       "      <td>[]</td>\n",
       "      <td>False</td>\n",
       "      <td>False</td>\n",
       "      <td>False</td>\n",
       "      <td>False</td>\n",
       "      <td>Adults In Motion</td>\n",
       "      <td>Virtual connecting is not the next big thing i...</td>\n",
       "    </tr>\n",
       "    <tr>\n",
       "      <th>2</th>\n",
       "      <td>2</td>\n",
       "      <td>885747516</td>\n",
       "      <td>2021-02-15 18:14:22</td>\n",
       "      <td>AIMkitchener</td>\n",
       "      <td>“Treat your friends like family and your famil...</td>\n",
       "      <td>['https://t.co/jpFQ3K5oSK']</td>\n",
       "      <td>1.0</td>\n",
       "      <td>0.0</td>\n",
       "      <td>https://twitter.com/i/web/status/1361378331254...</td>\n",
       "      <td>[]</td>\n",
       "      <td>False</td>\n",
       "      <td>False</td>\n",
       "      <td>False</td>\n",
       "      <td>False</td>\n",
       "      <td>Adults In Motion</td>\n",
       "      <td>“Treat your friends like family and your famil...</td>\n",
       "    </tr>\n",
       "    <tr>\n",
       "      <th>3</th>\n",
       "      <td>3</td>\n",
       "      <td>885747516</td>\n",
       "      <td>2021-02-01 17:54:56</td>\n",
       "      <td>AIMkitchener</td>\n",
       "      <td>🤗 Sending virtual Love Squeezes to anyone who ...</td>\n",
       "      <td>['https://t.co/zk4ZZm0cZa']</td>\n",
       "      <td>1.0</td>\n",
       "      <td>0.0</td>\n",
       "      <td>https://twitter.com/i/web/status/1356300010737...</td>\n",
       "      <td>['VirtualHug', 'SpreadKindness', 'SpreadLove']</td>\n",
       "      <td>False</td>\n",
       "      <td>False</td>\n",
       "      <td>False</td>\n",
       "      <td>False</td>\n",
       "      <td>Adults In Motion</td>\n",
       "      <td>Sending virtual Love Squeezes to anyone who n...</td>\n",
       "    </tr>\n",
       "    <tr>\n",
       "      <th>4</th>\n",
       "      <td>4</td>\n",
       "      <td>885747516</td>\n",
       "      <td>2021-01-15 18:40:36</td>\n",
       "      <td>AIMkitchener</td>\n",
       "      <td>How are YOU getting active and outdoors?! Tell...</td>\n",
       "      <td>['https://t.co/eZB1kEPYUz']</td>\n",
       "      <td>1.0</td>\n",
       "      <td>0.0</td>\n",
       "      <td>NaN</td>\n",
       "      <td>[]</td>\n",
       "      <td>True</td>\n",
       "      <td>False</td>\n",
       "      <td>False</td>\n",
       "      <td>False</td>\n",
       "      <td>Adults In Motion</td>\n",
       "      <td>How are YOU getting active and outdoors Tell u...</td>\n",
       "    </tr>\n",
       "  </tbody>\n",
       "</table>\n",
       "</div>"
      ],
      "text/plain": [
       "   tweet_id    user_id           created_at   screen_name  \\\n",
       "0         0  885747516  2021-02-26 17:59:51  AIMkitchener   \n",
       "1         1  885747516  2021-02-24 19:34:45  AIMkitchener   \n",
       "2         2  885747516  2021-02-15 18:14:22  AIMkitchener   \n",
       "3         3  885747516  2021-02-01 17:54:56  AIMkitchener   \n",
       "4         4  885747516  2021-01-15 18:40:36  AIMkitchener   \n",
       "\n",
       "                                                text  \\\n",
       "0  🍅 What will your garden look like this year? 🪴...   \n",
       "1  Virtual connecting is not the next big thing, ...   \n",
       "2  “Treat your friends like family and your famil...   \n",
       "3  🤗 Sending virtual Love Squeezes to anyone who ...   \n",
       "4  How are YOU getting active and outdoors?! Tell...   \n",
       "\n",
       "                          urls  favorite_count  retweet_count  \\\n",
       "0  ['https://t.co/g1djW5JMVT']             2.0            0.0   \n",
       "1  ['https://t.co/b1Ts6V60hS']             1.0            0.0   \n",
       "2  ['https://t.co/jpFQ3K5oSK']             1.0            0.0   \n",
       "3  ['https://t.co/zk4ZZm0cZa']             1.0            0.0   \n",
       "4  ['https://t.co/eZB1kEPYUz']             1.0            0.0   \n",
       "\n",
       "                                                 URL  \\\n",
       "0  https://twitter.com/i/web/status/1365360946378...   \n",
       "1  https://twitter.com/i/web/status/1364660054046...   \n",
       "2  https://twitter.com/i/web/status/1361378331254...   \n",
       "3  https://twitter.com/i/web/status/1356300010737...   \n",
       "4                                                NaN   \n",
       "\n",
       "                                         hashtags has_media is_quote is_reply  \\\n",
       "0                                              []     False    False    False   \n",
       "1                                              []     False    False    False   \n",
       "2                                              []     False    False    False   \n",
       "3  ['VirtualHug', 'SpreadKindness', 'SpreadLove']     False    False    False   \n",
       "4                                              []      True    False    False   \n",
       "\n",
       "  is_retweet Organization Name  \\\n",
       "0      False  Adults In Motion   \n",
       "1      False  Adults In Motion   \n",
       "2      False  Adults In Motion   \n",
       "3      False  Adults In Motion   \n",
       "4      False  Adults In Motion   \n",
       "\n",
       "                                          text_clean  \n",
       "0   What will your garden look like this year  \\n...  \n",
       "1  Virtual connecting is not the next big thing i...  \n",
       "2  “Treat your friends like family and your famil...  \n",
       "3   Sending virtual Love Squeezes to anyone who n...  \n",
       "4  How are YOU getting active and outdoors Tell u...  "
      ]
     },
     "execution_count": 20,
     "metadata": {},
     "output_type": "execute_result"
    }
   ],
   "source": [
    "tweets1.head()"
   ]
  },
  {
   "cell_type": "code",
   "execution_count": 17,
   "metadata": {},
   "outputs": [
    {
     "data": {
      "text/plain": [
       "<AxesSubplot:ylabel='Frequency'>"
      ]
     },
     "execution_count": 17,
     "metadata": {},
     "output_type": "execute_result"
    },
    {
     "data": {
      "image/png": "[encoded data removed]",
      "text/plain": [
       "<Figure size 432x288 with 1 Axes>"
      ]
     },
     "metadata": {
      "needs_background": "light"
     },
     "output_type": "display_data"
    }
   ],
   "source": [
    "org_profile['followers_count'].plot.hist(bins=50)"
   ]
  },
  {
   "cell_type": "code",
   "execution_count": 18,
   "metadata": {},
   "outputs": [
    {
     "name": "stderr",
     "output_type": "stream",
     "text": [
      "C:\\Users\\farha\\anaconda3\\envs\\PythonData\\lib\\site-packages\\seaborn\\distributions.py:2551: FutureWarning: `distplot` is a deprecated function and will be removed in a future version. Please adapt your code to use either `displot` (a figure-level function with similar flexibility) or `histplot` (an axes-level function for histograms).\n",
      "  warnings.warn(msg, FutureWarning)\n"
     ]
    },
    {
     "data": {
      "text/plain": [
       "<AxesSubplot:xlabel='followers_count', ylabel='Density'>"
      ]
     },
     "execution_count": 18,
     "metadata": {},
     "output_type": "execute_result"
    },
    {
     "data": {
      "image/png": "[encoded data removed]",
      "text/plain": [
       "<Figure size 432x288 with 1 Axes>"
      ]
     },
     "metadata": {
      "needs_background": "light"
     },
     "output_type": "display_data"
    }
   ],
   "source": [
    "# plot distribution of followers\n",
    "sns.distplot(org_profile['followers_count'], bins=100)"
   ]
  },
  {
   "cell_type": "code",
   "execution_count": 21,
   "metadata": {},
   "outputs": [
    {
     "name": "stderr",
     "output_type": "stream",
     "text": [
      "C:\\Users\\farha\\anaconda3\\envs\\PythonData\\lib\\site-packages\\seaborn\\distributions.py:2551: FutureWarning: `distplot` is a deprecated function and will be removed in a future version. Please adapt your code to use either `displot` (a figure-level function with similar flexibility) or `histplot` (an axes-level function for histograms).\n",
      "  warnings.warn(msg, FutureWarning)\n"
     ]
    },
    {
     "data": {
      "text/plain": [
       "<AxesSubplot:xlabel='friends_count', ylabel='Density'>"
      ]
     },
     "execution_count": 21,
     "metadata": {},
     "output_type": "execute_result"
    },
    {
     "data": {
      "image/png": "[encoded data removed]",
      "text/plain": [
       "<Figure size 432x288 with 1 Axes>"
      ]
     },
     "metadata": {
      "needs_background": "light"
     },
     "output_type": "display_data"
    }
   ],
   "source": [
    "# plot distribution of friends\n",
    "sns.distplot(org_profile['friends_count'], bins=100)"
   ]
  },
  {
   "cell_type": "code",
   "execution_count": 23,
   "metadata": {},
   "outputs": [
    {
     "name": "stderr",
     "output_type": "stream",
     "text": [
      "C:\\Users\\farha\\anaconda3\\envs\\PythonData\\lib\\site-packages\\seaborn\\distributions.py:2551: FutureWarning: `distplot` is a deprecated function and will be removed in a future version. Please adapt your code to use either `displot` (a figure-level function with similar flexibility) or `histplot` (an axes-level function for histograms).\n",
      "  warnings.warn(msg, FutureWarning)\n"
     ]
    },
    {
     "data": {
      "text/plain": [
       "<AxesSubplot:xlabel='favorite_count', ylabel='Density'>"
      ]
     },
     "execution_count": 23,
     "metadata": {},
     "output_type": "execute_result"
    },
    {
     "data": {
      "image/png": "[encoded data removed]",
      "text/plain": [
       "<Figure size 432x288 with 1 Axes>"
      ]
     },
     "metadata": {
      "needs_background": "light"
     },
     "output_type": "display_data"
    }
   ],
   "source": [
    "# plot the distribution of likes and retweets\n",
    "sns.distplot(tweets1['favorite_count'])"
   ]
  },
  {
   "cell_type": "code",
   "execution_count": 28,
   "metadata": {},
   "outputs": [
    {
     "name": "stderr",
     "output_type": "stream",
     "text": [
      "C:\\Users\\farha\\anaconda3\\envs\\PythonData\\lib\\site-packages\\seaborn\\distributions.py:2551: FutureWarning: `distplot` is a deprecated function and will be removed in a future version. Please adapt your code to use either `displot` (a figure-level function with similar flexibility) or `histplot` (an axes-level function for histograms).\n",
      "  warnings.warn(msg, FutureWarning)\n"
     ]
    },
    {
     "data": {
      "text/plain": [
       "<AxesSubplot:xlabel='retweet_count', ylabel='Density'>"
      ]
     },
     "execution_count": 28,
     "metadata": {},
     "output_type": "execute_result"
    },
    {
     "data": {
      "image/png": "[encoded data removed]",
      "text/plain": [
       "<Figure size 432x288 with 1 Axes>"
      ]
     },
     "metadata": {
      "needs_background": "light"
     },
     "output_type": "display_data"
    }
   ],
   "source": [
    "sns.distplot(tweets1['retweet_count'])"
   ]
  }
 ],
 "metadata": {
  "kernelspec": {
   "display_name": "Python 3",
   "language": "python",
   "name": "python3"
  },
  "language_info": {
   "codemirror_mode": {
    "name": "ipython",
    "version": 3
   },
   "file_extension": ".py",
   "mimetype": "text/x-python",
   "name": "python",
   "nbconvert_exporter": "python",
   "pygments_lexer": "ipython3",
   "version": "3.8.8"
  }
 },
 "nbformat": 4,
 "nbformat_minor": 4
}
