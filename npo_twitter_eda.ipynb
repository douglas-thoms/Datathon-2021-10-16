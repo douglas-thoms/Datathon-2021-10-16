{
 "cells": [
  {
   "cell_type": "code",
   "execution_count": 1,
   "metadata": {},
   "outputs": [],
   "source": [
    "# import dependencies\n",
    "import pandas as pd\n",
    "import datetime as dt\n",
    "import numpy as np\n",
    "import matplotlib.pyplot as plt\n",
    "import seaborn as sns\n",
    "from sklearn.linear_model import LinearRegression"
   ]
  },
  {
   "cell_type": "code",
   "execution_count": 2,
   "metadata": {},
   "outputs": [
    {
     "name": "stderr",
     "output_type": "stream",
     "text": [
      "C:\\Users\\farha\\anaconda3\\envs\\PythonData\\lib\\site-packages\\IPython\\core\\interactiveshell.py:3147: DtypeWarning: Columns (10,11,12,13) have mixed types.Specify dtype option on import or set low_memory=False.\n",
      "  interactivity=interactivity, compiler=compiler, result=result)\n"
     ]
    }
   ],
   "source": [
    "# read csvs into DF\n",
    "\n",
    "org_profile = pd.read_csv('../Data/organization_profiles.csv')\n",
    "\n",
    "tweets1 = pd.read_csv('../Data/tweets_all_revised2.csv')\n",
    "\n",
    "# tweets2 = pd.read_excel('../Data/tweets_all_revised2.xlsx') # Not necessary"
   ]
  },
  {
   "cell_type": "code",
   "execution_count": 3,
   "metadata": {},
   "outputs": [
    {
     "data": {
      "text/html": [
       "<div>\n",
       "<style scoped>\n",
       "    .dataframe tbody tr th:only-of-type {\n",
       "        vertical-align: middle;\n",
       "    }\n",
       "\n",
       "    .dataframe tbody tr th {\n",
       "        vertical-align: top;\n",
       "    }\n",
       "\n",
       "    .dataframe thead th {\n",
       "        text-align: right;\n",
       "    }\n",
       "</style>\n",
       "<table border=\"1\" class=\"dataframe\">\n",
       "  <thead>\n",
       "    <tr style=\"text-align: right;\">\n",
       "      <th></th>\n",
       "      <th>followers_count</th>\n",
       "      <th>friends_count</th>\n",
       "    </tr>\n",
       "  </thead>\n",
       "  <tbody>\n",
       "    <tr>\n",
       "      <th>count</th>\n",
       "      <td>86.000000</td>\n",
       "      <td>86.000000</td>\n",
       "    </tr>\n",
       "    <tr>\n",
       "      <th>mean</th>\n",
       "      <td>2643.151163</td>\n",
       "      <td>1071.383721</td>\n",
       "    </tr>\n",
       "    <tr>\n",
       "      <th>std</th>\n",
       "      <td>3835.771886</td>\n",
       "      <td>1078.873979</td>\n",
       "    </tr>\n",
       "    <tr>\n",
       "      <th>min</th>\n",
       "      <td>42.000000</td>\n",
       "      <td>21.000000</td>\n",
       "    </tr>\n",
       "    <tr>\n",
       "      <th>25%</th>\n",
       "      <td>567.750000</td>\n",
       "      <td>298.250000</td>\n",
       "    </tr>\n",
       "    <tr>\n",
       "      <th>50%</th>\n",
       "      <td>1544.500000</td>\n",
       "      <td>791.000000</td>\n",
       "    </tr>\n",
       "    <tr>\n",
       "      <th>75%</th>\n",
       "      <td>2951.500000</td>\n",
       "      <td>1513.250000</td>\n",
       "    </tr>\n",
       "    <tr>\n",
       "      <th>max</th>\n",
       "      <td>25052.000000</td>\n",
       "      <td>6858.000000</td>\n",
       "    </tr>\n",
       "  </tbody>\n",
       "</table>\n",
       "</div>"
      ],
      "text/plain": [
       "       followers_count  friends_count\n",
       "count        86.000000      86.000000\n",
       "mean       2643.151163    1071.383721\n",
       "std        3835.771886    1078.873979\n",
       "min          42.000000      21.000000\n",
       "25%         567.750000     298.250000\n",
       "50%        1544.500000     791.000000\n",
       "75%        2951.500000    1513.250000\n",
       "max       25052.000000    6858.000000"
      ]
     },
     "execution_count": 3,
     "metadata": {},
     "output_type": "execute_result"
    }
   ],
   "source": [
    "# Summary stats of organizations followers and friends\n",
    "org_profile[['followers_count', 'friends_count']].describe()"
   ]
  },
  {
   "cell_type": "code",
   "execution_count": 4,
   "metadata": {},
   "outputs": [
    {
     "data": {
      "text/html": [
       "<div>\n",
       "<style scoped>\n",
       "    .dataframe tbody tr th:only-of-type {\n",
       "        vertical-align: middle;\n",
       "    }\n",
       "\n",
       "    .dataframe tbody tr th {\n",
       "        vertical-align: top;\n",
       "    }\n",
       "\n",
       "    .dataframe thead th {\n",
       "        text-align: right;\n",
       "    }\n",
       "</style>\n",
       "<table border=\"1\" class=\"dataframe\">\n",
       "  <thead>\n",
       "    <tr style=\"text-align: right;\">\n",
       "      <th></th>\n",
       "      <th>favorite_count</th>\n",
       "      <th>retweet_count</th>\n",
       "    </tr>\n",
       "  </thead>\n",
       "  <tbody>\n",
       "    <tr>\n",
       "      <th>count</th>\n",
       "      <td>184741.000000</td>\n",
       "      <td>1.847410e+05</td>\n",
       "    </tr>\n",
       "    <tr>\n",
       "      <th>mean</th>\n",
       "      <td>1.721989</td>\n",
       "      <td>8.308097e+01</td>\n",
       "    </tr>\n",
       "    <tr>\n",
       "      <th>std</th>\n",
       "      <td>4.911940</td>\n",
       "      <td>6.985665e+03</td>\n",
       "    </tr>\n",
       "    <tr>\n",
       "      <th>min</th>\n",
       "      <td>0.000000</td>\n",
       "      <td>0.000000e+00</td>\n",
       "    </tr>\n",
       "    <tr>\n",
       "      <th>25%</th>\n",
       "      <td>0.000000</td>\n",
       "      <td>0.000000e+00</td>\n",
       "    </tr>\n",
       "    <tr>\n",
       "      <th>50%</th>\n",
       "      <td>0.000000</td>\n",
       "      <td>1.000000e+00</td>\n",
       "    </tr>\n",
       "    <tr>\n",
       "      <th>75%</th>\n",
       "      <td>2.000000</td>\n",
       "      <td>3.000000e+00</td>\n",
       "    </tr>\n",
       "    <tr>\n",
       "      <th>max</th>\n",
       "      <td>578.000000</td>\n",
       "      <td>1.506563e+06</td>\n",
       "    </tr>\n",
       "  </tbody>\n",
       "</table>\n",
       "</div>"
      ],
      "text/plain": [
       "       favorite_count  retweet_count\n",
       "count   184741.000000   1.847410e+05\n",
       "mean         1.721989   8.308097e+01\n",
       "std          4.911940   6.985665e+03\n",
       "min          0.000000   0.000000e+00\n",
       "25%          0.000000   0.000000e+00\n",
       "50%          0.000000   1.000000e+00\n",
       "75%          2.000000   3.000000e+00\n",
       "max        578.000000   1.506563e+06"
      ]
     },
     "execution_count": 4,
     "metadata": {},
     "output_type": "execute_result"
    }
   ],
   "source": [
    "# Summary stats of favorites and retweets\n",
    "tweets1[['favorite_count', 'retweet_count']].describe()"
   ]
  },
  {
   "cell_type": "code",
   "execution_count": 5,
   "metadata": {},
   "outputs": [
    {
     "data": {
      "text/html": [
       "<div>\n",
       "<style scoped>\n",
       "    .dataframe tbody tr th:only-of-type {\n",
       "        vertical-align: middle;\n",
       "    }\n",
       "\n",
       "    .dataframe tbody tr th {\n",
       "        vertical-align: top;\n",
       "    }\n",
       "\n",
       "    .dataframe thead th {\n",
       "        text-align: right;\n",
       "    }\n",
       "</style>\n",
       "<table border=\"1\" class=\"dataframe\">\n",
       "  <thead>\n",
       "    <tr style=\"text-align: right;\">\n",
       "      <th></th>\n",
       "      <th>Unnamed: 0</th>\n",
       "      <th>Organization Name</th>\n",
       "      <th>twitter_handle</th>\n",
       "      <th>screen_name</th>\n",
       "      <th>agency_catergory</th>\n",
       "      <th>followers_count</th>\n",
       "      <th>friends_count</th>\n",
       "      <th>location</th>\n",
       "    </tr>\n",
       "  </thead>\n",
       "  <tbody>\n",
       "    <tr>\n",
       "      <th>0</th>\n",
       "      <td>0</td>\n",
       "      <td>Adults In Motion</td>\n",
       "      <td>@AIMkitchener</td>\n",
       "      <td>AIMkitchener</td>\n",
       "      <td>Disabilities</td>\n",
       "      <td>662</td>\n",
       "      <td>800</td>\n",
       "      <td>Kitchener, Ontario</td>\n",
       "    </tr>\n",
       "    <tr>\n",
       "      <th>1</th>\n",
       "      <td>1</td>\n",
       "      <td>African Family Revival Organization</td>\n",
       "      <td>@AFROKitchener</td>\n",
       "      <td>AFROKitchener</td>\n",
       "      <td>Arts, Culture and Heritage</td>\n",
       "      <td>125</td>\n",
       "      <td>64</td>\n",
       "      <td>Kitchener, Ontario</td>\n",
       "    </tr>\n",
       "    <tr>\n",
       "      <th>2</th>\n",
       "      <td>2</td>\n",
       "      <td>Alzheimer Society of Waterloo Wellington</td>\n",
       "      <td>@alzsocww</td>\n",
       "      <td>alzsocww</td>\n",
       "      <td>Seniors</td>\n",
       "      <td>1376</td>\n",
       "      <td>432</td>\n",
       "      <td>Waterloo Wellington, Ontario</td>\n",
       "    </tr>\n",
       "    <tr>\n",
       "      <th>3</th>\n",
       "      <td>3</td>\n",
       "      <td>Big Brothers Big Sisters of Waterloo Region</td>\n",
       "      <td>@BBBSWR</td>\n",
       "      <td>BBBSWR</td>\n",
       "      <td>Children, Youth and Family</td>\n",
       "      <td>2462</td>\n",
       "      <td>1551</td>\n",
       "      <td>Waterloo Region</td>\n",
       "    </tr>\n",
       "    <tr>\n",
       "      <th>4</th>\n",
       "      <td>4</td>\n",
       "      <td>Bridges to Belonging</td>\n",
       "      <td>@BtoBelonging</td>\n",
       "      <td>BtoBelonging</td>\n",
       "      <td>Disabilities</td>\n",
       "      <td>1432</td>\n",
       "      <td>1254</td>\n",
       "      <td>Waterloo Region</td>\n",
       "    </tr>\n",
       "  </tbody>\n",
       "</table>\n",
       "</div>"
      ],
      "text/plain": [
       "   Unnamed: 0                            Organization Name  twitter_handle  \\\n",
       "0           0                             Adults In Motion   @AIMkitchener   \n",
       "1           1          African Family Revival Organization  @AFROKitchener   \n",
       "2           2     Alzheimer Society of Waterloo Wellington       @alzsocww   \n",
       "3           3  Big Brothers Big Sisters of Waterloo Region         @BBBSWR   \n",
       "4           4                         Bridges to Belonging   @BtoBelonging   \n",
       "\n",
       "     screen_name            agency_catergory  followers_count  friends_count  \\\n",
       "0   AIMkitchener                Disabilities              662            800   \n",
       "1  AFROKitchener  Arts, Culture and Heritage              125             64   \n",
       "2       alzsocww                     Seniors             1376            432   \n",
       "3         BBBSWR  Children, Youth and Family             2462           1551   \n",
       "4   BtoBelonging                Disabilities             1432           1254   \n",
       "\n",
       "                       location  \n",
       "0            Kitchener, Ontario  \n",
       "1            Kitchener, Ontario  \n",
       "2  Waterloo Wellington, Ontario  \n",
       "3               Waterloo Region  \n",
       "4               Waterloo Region  "
      ]
     },
     "execution_count": 5,
     "metadata": {},
     "output_type": "execute_result"
    }
   ],
   "source": [
    "org_profile.head()"
   ]
  },
  {
   "cell_type": "code",
   "execution_count": 6,
   "metadata": {},
   "outputs": [
    {
     "data": {
      "text/plain": [
       "Community and Social Services        21\n",
       "Arts, Culture and Heritage           11\n",
       "Disabilities                         10\n",
       "Children, Youth and Family           10\n",
       "Sports, Recreation and Leisure        7\n",
       "Health and Wellness                   4\n",
       "Immigration and Settlement            3\n",
       "Environment                           3\n",
       "Criminal Justice and Civil Rights     2\n",
       "Grant-Giving Foundation               2\n",
       "Education Institution                 2\n",
       "Literacy and Skills Development       2\n",
       "Library and Research                  2\n",
       "Animals                               2\n",
       "Seniors                               2\n",
       "Employment                            2\n",
       "LGBTQ                                 1\n",
       "Name: agency_catergory, dtype: int64"
      ]
     },
     "execution_count": 6,
     "metadata": {},
     "output_type": "execute_result"
    }
   ],
   "source": [
    "# value counts of agency category\n",
    "org_profile['agency_catergory'].value_counts()"
   ]
  },
  {
   "cell_type": "code",
   "execution_count": 7,
   "metadata": {},
   "outputs": [],
   "source": [
    "# followers grouped by agency category\n",
    "followers_by_cat = org_profile.groupby(['agency_catergory']).sum()['followers_count']"
   ]
  },
  {
   "cell_type": "code",
   "execution_count": 8,
   "metadata": {},
   "outputs": [
    {
     "data": {
      "text/plain": [
       "Text(0.5, 0, 'Agency Categories')"
      ]
     },
     "execution_count": 8,
     "metadata": {},
     "output_type": "execute_result"
    },
    {
     "data": {
      "image/png": "[encoded data removed]",
      "text/plain": [
       "<Figure size 1440x360 with 2 Axes>"
      ]
     },
     "metadata": {
      "needs_background": "light"
     },
     "output_type": "display_data"
    }
   ],
   "source": [
    "# Plot counts of agencies per category and sum of followers per category\n",
    "\n",
    "fig, axes = plt.subplots(1, 2, figsize=(20, 5))\n",
    "\n",
    "org_profile['agency_catergory'].value_counts().plot.bar(ax=axes[0])\n",
    "followers_by_cat.sort_values(ascending=False).plot.bar(ax=axes[1])\n",
    "\n",
    "axes[0].set_title('Accounts per Category')\n",
    "axes[0].set_ylabel('# of Accounts')\n",
    "axes[0].set_xlabel('Agency Categories')\n",
    "\n",
    "axes[1].set_title('Followers per Category')\n",
    "axes[1].set_ylabel('# of Followers')\n",
    "axes[1].set_xlabel('Agency Categories')"
   ]
  },
  {
   "cell_type": "code",
   "execution_count": 9,
   "metadata": {},
   "outputs": [
    {
     "data": {
      "text/html": [
       "<div>\n",
       "<style scoped>\n",
       "    .dataframe tbody tr th:only-of-type {\n",
       "        vertical-align: middle;\n",
       "    }\n",
       "\n",
       "    .dataframe tbody tr th {\n",
       "        vertical-align: top;\n",
       "    }\n",
       "\n",
       "    .dataframe thead th {\n",
       "        text-align: right;\n",
       "    }\n",
       "</style>\n",
       "<table border=\"1\" class=\"dataframe\">\n",
       "  <thead>\n",
       "    <tr style=\"text-align: right;\">\n",
       "      <th></th>\n",
       "      <th>Unnamed: 0</th>\n",
       "      <th>Organization Name</th>\n",
       "      <th>twitter_handle</th>\n",
       "      <th>screen_name</th>\n",
       "      <th>agency_catergory</th>\n",
       "      <th>followers_count</th>\n",
       "      <th>friends_count</th>\n",
       "      <th>location</th>\n",
       "    </tr>\n",
       "  </thead>\n",
       "  <tbody>\n",
       "    <tr>\n",
       "      <th>74</th>\n",
       "      <td>74</td>\n",
       "      <td>Uptown Waterloo BIA</td>\n",
       "      <td>@uptownwaterloo</td>\n",
       "      <td>uptownwaterloo</td>\n",
       "      <td>Employment</td>\n",
       "      <td>25052</td>\n",
       "      <td>423</td>\n",
       "      <td>Waterloo, ON</td>\n",
       "    </tr>\n",
       "    <tr>\n",
       "      <th>81</th>\n",
       "      <td>81</td>\n",
       "      <td>The Museum</td>\n",
       "      <td>@THEMUSEUM</td>\n",
       "      <td>THEMUSEUM</td>\n",
       "      <td>Arts, Culture and Heritage</td>\n",
       "      <td>18095</td>\n",
       "      <td>6858</td>\n",
       "      <td>Kitchener, Ontario, Canada</td>\n",
       "    </tr>\n",
       "    <tr>\n",
       "      <th>40</th>\n",
       "      <td>40</td>\n",
       "      <td>Kitchener Public Library</td>\n",
       "      <td>@KitchLibrary</td>\n",
       "      <td>KitchLibrary</td>\n",
       "      <td>Library and Research</td>\n",
       "      <td>12630</td>\n",
       "      <td>3035</td>\n",
       "      <td>Kitchener, Ontario, Canada</td>\n",
       "    </tr>\n",
       "    <tr>\n",
       "      <th>42</th>\n",
       "      <td>42</td>\n",
       "      <td>Kitchener-Waterloo Art Gallery</td>\n",
       "      <td>@kwartgallery</td>\n",
       "      <td>kwartgallery</td>\n",
       "      <td>Arts, Culture and Heritage</td>\n",
       "      <td>10448</td>\n",
       "      <td>3119</td>\n",
       "      <td>Kitchener, Canada</td>\n",
       "    </tr>\n",
       "    <tr>\n",
       "      <th>23</th>\n",
       "      <td>23</td>\n",
       "      <td>Food Bank of Waterloo Region</td>\n",
       "      <td>@FoodBankWatReg</td>\n",
       "      <td>FoodBankWatReg</td>\n",
       "      <td>Community and Social Services</td>\n",
       "      <td>8886</td>\n",
       "      <td>2091</td>\n",
       "      <td>Waterloo Region</td>\n",
       "    </tr>\n",
       "    <tr>\n",
       "      <th>32</th>\n",
       "      <td>32</td>\n",
       "      <td>John Howard Society of Waterloo-Wellington</td>\n",
       "      <td>@jhsontario</td>\n",
       "      <td>jhsontario</td>\n",
       "      <td>Criminal Justice and Civil Rights</td>\n",
       "      <td>6972</td>\n",
       "      <td>2655</td>\n",
       "      <td>Ontario, Canada</td>\n",
       "    </tr>\n",
       "    <tr>\n",
       "      <th>28</th>\n",
       "      <td>28</td>\n",
       "      <td>House of Friendship</td>\n",
       "      <td>@hofwatreg</td>\n",
       "      <td>hofwatreg</td>\n",
       "      <td>Community and Social Services</td>\n",
       "      <td>6672</td>\n",
       "      <td>1071</td>\n",
       "      <td>Kitchener Waterloo, Ontario</td>\n",
       "    </tr>\n",
       "    <tr>\n",
       "      <th>45</th>\n",
       "      <td>45</td>\n",
       "      <td>Kitchener-Waterloo Symphony Volunteer Committee</td>\n",
       "      <td>@kw_symphony</td>\n",
       "      <td>kw_symphony</td>\n",
       "      <td>Arts, Culture and Heritage</td>\n",
       "      <td>6663</td>\n",
       "      <td>2424</td>\n",
       "      <td>Kitchener, Ontario</td>\n",
       "    </tr>\n",
       "    <tr>\n",
       "      <th>35</th>\n",
       "      <td>35</td>\n",
       "      <td>KidsAbility Centre for Child Development</td>\n",
       "      <td>@KidsAbility</td>\n",
       "      <td>KidsAbility</td>\n",
       "      <td>Disabilities</td>\n",
       "      <td>6406</td>\n",
       "      <td>2277</td>\n",
       "      <td>Ontario</td>\n",
       "    </tr>\n",
       "    <tr>\n",
       "      <th>52</th>\n",
       "      <td>52</td>\n",
       "      <td>Mennonite Central Committee Ontario (MCC)</td>\n",
       "      <td>@mccorg</td>\n",
       "      <td>mccorg</td>\n",
       "      <td>Community and Social Services</td>\n",
       "      <td>6098</td>\n",
       "      <td>293</td>\n",
       "      <td>NaN</td>\n",
       "    </tr>\n",
       "  </tbody>\n",
       "</table>\n",
       "</div>"
      ],
      "text/plain": [
       "    Unnamed: 0                                Organization Name  \\\n",
       "74          74                              Uptown Waterloo BIA   \n",
       "81          81                                       The Museum   \n",
       "40          40                         Kitchener Public Library   \n",
       "42          42                   Kitchener-Waterloo Art Gallery   \n",
       "23          23                     Food Bank of Waterloo Region   \n",
       "32          32       John Howard Society of Waterloo-Wellington   \n",
       "28          28                              House of Friendship   \n",
       "45          45  Kitchener-Waterloo Symphony Volunteer Committee   \n",
       "35          35         KidsAbility Centre for Child Development   \n",
       "52          52        Mennonite Central Committee Ontario (MCC)   \n",
       "\n",
       "     twitter_handle     screen_name                   agency_catergory  \\\n",
       "74  @uptownwaterloo  uptownwaterloo                         Employment   \n",
       "81       @THEMUSEUM       THEMUSEUM         Arts, Culture and Heritage   \n",
       "40    @KitchLibrary    KitchLibrary               Library and Research   \n",
       "42    @kwartgallery    kwartgallery         Arts, Culture and Heritage   \n",
       "23  @FoodBankWatReg  FoodBankWatReg      Community and Social Services   \n",
       "32      @jhsontario      jhsontario  Criminal Justice and Civil Rights   \n",
       "28       @hofwatreg       hofwatreg      Community and Social Services   \n",
       "45     @kw_symphony     kw_symphony         Arts, Culture and Heritage   \n",
       "35     @KidsAbility     KidsAbility                       Disabilities   \n",
       "52          @mccorg          mccorg      Community and Social Services   \n",
       "\n",
       "    followers_count  friends_count                     location  \n",
       "74            25052            423                 Waterloo, ON  \n",
       "81            18095           6858   Kitchener, Ontario, Canada  \n",
       "40            12630           3035   Kitchener, Ontario, Canada  \n",
       "42            10448           3119            Kitchener, Canada  \n",
       "23             8886           2091              Waterloo Region  \n",
       "32             6972           2655              Ontario, Canada  \n",
       "28             6672           1071  Kitchener Waterloo, Ontario  \n",
       "45             6663           2424           Kitchener, Ontario  \n",
       "35             6406           2277                      Ontario  \n",
       "52             6098            293                          NaN  "
      ]
     },
     "execution_count": 9,
     "metadata": {},
     "output_type": "execute_result"
    }
   ],
   "source": [
    "# Sort (top 10) organizations by follower count in descending order\n",
    "\n",
    "org_profile.sort_values('followers_count', ascending=False).head(10)"
   ]
  },
  {
   "cell_type": "code",
   "execution_count": 10,
   "metadata": {},
   "outputs": [
    {
     "data": {
      "text/plain": [
       "0.5501928382719242"
      ]
     },
     "execution_count": 10,
     "metadata": {},
     "output_type": "execute_result"
    }
   ],
   "source": [
    "# Correlation between followers and friends?\n",
    "\n",
    "org_profile['followers_count'].corr(org_profile['friends_count'])"
   ]
  },
  {
   "cell_type": "code",
   "execution_count": 11,
   "metadata": {},
   "outputs": [
    {
     "data": {
      "image/png": "[encoded data removed]",
      "text/plain": [
       "<Figure size 432x288 with 1 Axes>"
      ]
     },
     "metadata": {
      "needs_background": "light"
     },
     "output_type": "display_data"
    }
   ],
   "source": [
    "# plot the variables: followers as dependent(y-axis), friends as independent(x-axis)\n",
    "\n",
    "plt.scatter(org_profile['friends_count'], org_profile['followers_count'])\n",
    "plt.xlabel('Friends Count')\n",
    "plt.ylabel('Followers Count')\n",
    "plt.show()"
   ]
  },
  {
   "cell_type": "markdown",
   "metadata": {},
   "source": [
    "## Regression model to test the correlation. Hypothesis: there is a random correlation between friends and followers"
   ]
  },
  {
   "cell_type": "code",
   "execution_count": 12,
   "metadata": {},
   "outputs": [],
   "source": [
    "# Create the independent variable for the model\n",
    "X = org_profile.friends_count.values.reshape(-1, 1)"
   ]
  },
  {
   "cell_type": "code",
   "execution_count": 13,
   "metadata": {},
   "outputs": [
    {
     "data": {
      "text/plain": [
       "(86, 1)"
      ]
     },
     "execution_count": 13,
     "metadata": {},
     "output_type": "execute_result"
    }
   ],
   "source": [
    "X.shape"
   ]
  },
  {
   "cell_type": "code",
   "execution_count": 14,
   "metadata": {},
   "outputs": [],
   "source": [
    "# Create the dependent variable\n",
    "y = org_profile.followers_count"
   ]
  },
  {
   "cell_type": "code",
   "execution_count": 15,
   "metadata": {},
   "outputs": [],
   "source": [
    "# Create the model and fit it\n",
    "\n",
    "model = LinearRegression()"
   ]
  },
  {
   "cell_type": "code",
   "execution_count": 16,
   "metadata": {},
   "outputs": [
    {
     "data": {
      "text/plain": [
       "LinearRegression()"
      ]
     },
     "execution_count": 16,
     "metadata": {},
     "output_type": "execute_result"
    }
   ],
   "source": [
    "model.fit(X, y)"
   ]
  },
  {
   "cell_type": "code",
   "execution_count": 17,
   "metadata": {},
   "outputs": [
    {
     "name": "stdout",
     "output_type": "stream",
     "text": [
      "(86,)\n"
     ]
    }
   ],
   "source": [
    "y_pred = model.predict(X)\n",
    "print(y_pred.shape)"
   ]
  },
  {
   "cell_type": "code",
   "execution_count": 18,
   "metadata": {},
   "outputs": [
    {
     "data": {
      "image/png": "[encoded data removed]",
      "text/plain": [
       "<Figure size 432x288 with 1 Axes>"
      ]
     },
     "metadata": {
      "needs_background": "light"
     },
     "output_type": "display_data"
    }
   ],
   "source": [
    "# plot the predictions\n",
    "plt.scatter(X, y)\n",
    "plt.plot(X, y_pred, color='red')\n",
    "plt.show()"
   ]
  },
  {
   "cell_type": "code",
   "execution_count": 19,
   "metadata": {},
   "outputs": [
    {
     "name": "stdout",
     "output_type": "stream",
     "text": [
      "slope: [1.95612672]\n",
      "y-intercept: 547.3888357821515\n"
     ]
    }
   ],
   "source": [
    "# Examine the parameters of the model: the slope and y-intercept\n",
    "print(f'slope: {model.coef_}')\n",
    "print(f'y-intercept: {model.intercept_}')"
   ]
  },
  {
   "cell_type": "markdown",
   "metadata": {},
   "source": []
  },
  {
   "cell_type": "code",
   "execution_count": null,
   "metadata": {},
   "outputs": [],
   "source": []
  },
  {
   "cell_type": "code",
   "execution_count": 20,
   "metadata": {},
   "outputs": [
    {
     "data": {
      "text/html": [
       "<div>\n",
       "<style scoped>\n",
       "    .dataframe tbody tr th:only-of-type {\n",
       "        vertical-align: middle;\n",
       "    }\n",
       "\n",
       "    .dataframe tbody tr th {\n",
       "        vertical-align: top;\n",
       "    }\n",
       "\n",
       "    .dataframe thead th {\n",
       "        text-align: right;\n",
       "    }\n",
       "</style>\n",
       "<table border=\"1\" class=\"dataframe\">\n",
       "  <thead>\n",
       "    <tr style=\"text-align: right;\">\n",
       "      <th></th>\n",
       "      <th>tweet_id</th>\n",
       "      <th>user_id</th>\n",
       "      <th>created_at</th>\n",
       "      <th>screen_name</th>\n",
       "      <th>text</th>\n",
       "      <th>urls</th>\n",
       "      <th>favorite_count</th>\n",
       "      <th>retweet_count</th>\n",
       "      <th>URL</th>\n",
       "      <th>hashtags</th>\n",
       "      <th>has_media</th>\n",
       "      <th>is_quote</th>\n",
       "      <th>is_reply</th>\n",
       "      <th>is_retweet</th>\n",
       "      <th>Organization Name</th>\n",
       "      <th>text_clean</th>\n",
       "    </tr>\n",
       "  </thead>\n",
       "  <tbody>\n",
       "    <tr>\n",
       "      <th>0</th>\n",
       "      <td>0</td>\n",
       "      <td>885747516</td>\n",
       "      <td>2021-02-26 17:59:51</td>\n",
       "      <td>AIMkitchener</td>\n",
       "      <td>🍅 What will your garden look like this year? 🪴...</td>\n",
       "      <td>['https://t.co/g1djW5JMVT']</td>\n",
       "      <td>2.0</td>\n",
       "      <td>0.0</td>\n",
       "      <td>https://twitter.com/i/web/status/1365360946378...</td>\n",
       "      <td>[]</td>\n",
       "      <td>False</td>\n",
       "      <td>False</td>\n",
       "      <td>False</td>\n",
       "      <td>False</td>\n",
       "      <td>Adults In Motion</td>\n",
       "      <td>What will your garden look like this year  \\n...</td>\n",
       "    </tr>\n",
       "    <tr>\n",
       "      <th>1</th>\n",
       "      <td>1</td>\n",
       "      <td>885747516</td>\n",
       "      <td>2021-02-24 19:34:45</td>\n",
       "      <td>AIMkitchener</td>\n",
       "      <td>Virtual connecting is not the next big thing, ...</td>\n",
       "      <td>['https://t.co/b1Ts6V60hS']</td>\n",
       "      <td>1.0</td>\n",
       "      <td>0.0</td>\n",
       "      <td>https://twitter.com/i/web/status/1364660054046...</td>\n",
       "      <td>[]</td>\n",
       "      <td>False</td>\n",
       "      <td>False</td>\n",
       "      <td>False</td>\n",
       "      <td>False</td>\n",
       "      <td>Adults In Motion</td>\n",
       "      <td>Virtual connecting is not the next big thing i...</td>\n",
       "    </tr>\n",
       "    <tr>\n",
       "      <th>2</th>\n",
       "      <td>2</td>\n",
       "      <td>885747516</td>\n",
       "      <td>2021-02-15 18:14:22</td>\n",
       "      <td>AIMkitchener</td>\n",
       "      <td>“Treat your friends like family and your famil...</td>\n",
       "      <td>['https://t.co/jpFQ3K5oSK']</td>\n",
       "      <td>1.0</td>\n",
       "      <td>0.0</td>\n",
       "      <td>https://twitter.com/i/web/status/1361378331254...</td>\n",
       "      <td>[]</td>\n",
       "      <td>False</td>\n",
       "      <td>False</td>\n",
       "      <td>False</td>\n",
       "      <td>False</td>\n",
       "      <td>Adults In Motion</td>\n",
       "      <td>“Treat your friends like family and your famil...</td>\n",
       "    </tr>\n",
       "    <tr>\n",
       "      <th>3</th>\n",
       "      <td>3</td>\n",
       "      <td>885747516</td>\n",
       "      <td>2021-02-01 17:54:56</td>\n",
       "      <td>AIMkitchener</td>\n",
       "      <td>🤗 Sending virtual Love Squeezes to anyone who ...</td>\n",
       "      <td>['https://t.co/zk4ZZm0cZa']</td>\n",
       "      <td>1.0</td>\n",
       "      <td>0.0</td>\n",
       "      <td>https://twitter.com/i/web/status/1356300010737...</td>\n",
       "      <td>['VirtualHug', 'SpreadKindness', 'SpreadLove']</td>\n",
       "      <td>False</td>\n",
       "      <td>False</td>\n",
       "      <td>False</td>\n",
       "      <td>False</td>\n",
       "      <td>Adults In Motion</td>\n",
       "      <td>Sending virtual Love Squeezes to anyone who n...</td>\n",
       "    </tr>\n",
       "    <tr>\n",
       "      <th>4</th>\n",
       "      <td>4</td>\n",
       "      <td>885747516</td>\n",
       "      <td>2021-01-15 18:40:36</td>\n",
       "      <td>AIMkitchener</td>\n",
       "      <td>How are YOU getting active and outdoors?! Tell...</td>\n",
       "      <td>['https://t.co/eZB1kEPYUz']</td>\n",
       "      <td>1.0</td>\n",
       "      <td>0.0</td>\n",
       "      <td>NaN</td>\n",
       "      <td>[]</td>\n",
       "      <td>True</td>\n",
       "      <td>False</td>\n",
       "      <td>False</td>\n",
       "      <td>False</td>\n",
       "      <td>Adults In Motion</td>\n",
       "      <td>How are YOU getting active and outdoors Tell u...</td>\n",
       "    </tr>\n",
       "  </tbody>\n",
       "</table>\n",
       "</div>"
      ],
      "text/plain": [
       "   tweet_id    user_id           created_at   screen_name  \\\n",
       "0         0  885747516  2021-02-26 17:59:51  AIMkitchener   \n",
       "1         1  885747516  2021-02-24 19:34:45  AIMkitchener   \n",
       "2         2  885747516  2021-02-15 18:14:22  AIMkitchener   \n",
       "3         3  885747516  2021-02-01 17:54:56  AIMkitchener   \n",
       "4         4  885747516  2021-01-15 18:40:36  AIMkitchener   \n",
       "\n",
       "                                                text  \\\n",
       "0  🍅 What will your garden look like this year? 🪴...   \n",
       "1  Virtual connecting is not the next big thing, ...   \n",
       "2  “Treat your friends like family and your famil...   \n",
       "3  🤗 Sending virtual Love Squeezes to anyone who ...   \n",
       "4  How are YOU getting active and outdoors?! Tell...   \n",
       "\n",
       "                          urls  favorite_count  retweet_count  \\\n",
       "0  ['https://t.co/g1djW5JMVT']             2.0            0.0   \n",
       "1  ['https://t.co/b1Ts6V60hS']             1.0            0.0   \n",
       "2  ['https://t.co/jpFQ3K5oSK']             1.0            0.0   \n",
       "3  ['https://t.co/zk4ZZm0cZa']             1.0            0.0   \n",
       "4  ['https://t.co/eZB1kEPYUz']             1.0            0.0   \n",
       "\n",
       "                                                 URL  \\\n",
       "0  https://twitter.com/i/web/status/1365360946378...   \n",
       "1  https://twitter.com/i/web/status/1364660054046...   \n",
       "2  https://twitter.com/i/web/status/1361378331254...   \n",
       "3  https://twitter.com/i/web/status/1356300010737...   \n",
       "4                                                NaN   \n",
       "\n",
       "                                         hashtags has_media is_quote is_reply  \\\n",
       "0                                              []     False    False    False   \n",
       "1                                              []     False    False    False   \n",
       "2                                              []     False    False    False   \n",
       "3  ['VirtualHug', 'SpreadKindness', 'SpreadLove']     False    False    False   \n",
       "4                                              []      True    False    False   \n",
       "\n",
       "  is_retweet Organization Name  \\\n",
       "0      False  Adults In Motion   \n",
       "1      False  Adults In Motion   \n",
       "2      False  Adults In Motion   \n",
       "3      False  Adults In Motion   \n",
       "4      False  Adults In Motion   \n",
       "\n",
       "                                          text_clean  \n",
       "0   What will your garden look like this year  \\n...  \n",
       "1  Virtual connecting is not the next big thing i...  \n",
       "2  “Treat your friends like family and your famil...  \n",
       "3   Sending virtual Love Squeezes to anyone who n...  \n",
       "4  How are YOU getting active and outdoors Tell u...  "
      ]
     },
     "execution_count": 20,
     "metadata": {},
     "output_type": "execute_result"
    }
   ],
   "source": [
    "tweets1.head()"
   ]
  },
  {
   "cell_type": "code",
   "execution_count": 21,
   "metadata": {},
   "outputs": [
    {
     "data": {
      "text/plain": [
       "<seaborn.axisgrid.FacetGrid at 0x1f72f838148>"
      ]
     },
     "execution_count": 21,
     "metadata": {},
     "output_type": "execute_result"
    },
    {
     "data": {
      "image/png": "[encoded data removed]",
      "text/plain": [
       "<Figure size 360x360 with 1 Axes>"
      ]
     },
     "metadata": {
      "needs_background": "light"
     },
     "output_type": "display_data"
    }
   ],
   "source": [
    "# Distribution of followers\n",
    "sns.displot(org_profile['followers_count'], bins=50)"
   ]
  },
  {
   "cell_type": "code",
   "execution_count": 22,
   "metadata": {},
   "outputs": [
    {
     "data": {
      "text/plain": [
       "<AxesSubplot:xlabel='friends_count', ylabel='Count'>"
      ]
     },
     "execution_count": 22,
     "metadata": {},
     "output_type": "execute_result"
    },
    {
     "data": {
      "image/png": "[encoded data removed]",
      "text/plain": [
       "<Figure size 432x288 with 1 Axes>"
      ]
     },
     "metadata": {
      "needs_background": "light"
     },
     "output_type": "display_data"
    }
   ],
   "source": [
    "# plot distribution of friends\n",
    "sns.histplot(org_profile['friends_count'], bins=50)"
   ]
  },
  {
   "cell_type": "code",
   "execution_count": 23,
   "metadata": {},
   "outputs": [
    {
     "data": {
      "text/plain": [
       "0.0      107645\n",
       "1.0       25732\n",
       "2.0       14643\n",
       "3.0        9522\n",
       "4.0        6497\n",
       "          ...  \n",
       "578.0         1\n",
       "283.0         1\n",
       "203.0         1\n",
       "192.0         1\n",
       "79.0          1\n",
       "Name: favorite_count, Length: 121, dtype: int64"
      ]
     },
     "execution_count": 23,
     "metadata": {},
     "output_type": "execute_result"
    }
   ],
   "source": [
    "# Get the value count of favorites\n",
    "fav_count = pd.Series(tweets1['favorite_count'].value_counts())\n",
    "fav_count"
   ]
  },
  {
   "cell_type": "code",
   "execution_count": 24,
   "metadata": {},
   "outputs": [
    {
     "data": {
      "text/plain": [
       "Text(0.5, 1.0, 'Frequency of Favorites')"
      ]
     },
     "execution_count": 24,
     "metadata": {},
     "output_type": "execute_result"
    },
    {
     "data": {
      "image/png": "[encoded data removed]",
      "text/plain": [
       "<Figure size 432x288 with 1 Axes>"
      ]
     },
     "metadata": {
      "needs_background": "light"
     },
     "output_type": "display_data"
    }
   ],
   "source": [
    "# Plot favorites\n",
    "plt.scatter(x=fav_count.index, y=fav_count)\n",
    "plt.xlabel('# of favorites')\n",
    "plt.ylabel('frequency')\n",
    "plt.title('Frequency of Favorites')"
   ]
  },
  {
   "cell_type": "code",
   "execution_count": 25,
   "metadata": {},
   "outputs": [
    {
     "data": {
      "text/plain": [
       "0.0         67558\n",
       "1.0         40372\n",
       "2.0         23973\n",
       "3.0         14756\n",
       "4.0          9257\n",
       "            ...  \n",
       "5205.0          1\n",
       "325.0           1\n",
       "927427.0        1\n",
       "5197.0          1\n",
       "503.0           1\n",
       "Name: retweet_count, Length: 1045, dtype: int64"
      ]
     },
     "execution_count": 25,
     "metadata": {},
     "output_type": "execute_result"
    }
   ],
   "source": [
    "# Get the value count of retweets\n",
    "retweet_count = pd.Series(tweets1['retweet_count'].value_counts())\n",
    "retweet_count"
   ]
  },
  {
   "cell_type": "code",
   "execution_count": 26,
   "metadata": {},
   "outputs": [
    {
     "data": {
      "text/plain": [
       "Text(0.5, 1.0, 'Frequency of retweets')"
      ]
     },
     "execution_count": 26,
     "metadata": {},
     "output_type": "execute_result"
    },
    {
     "data": {
      "image/png": "[encoded data removed]",
      "text/plain": [
       "<Figure size 432x288 with 1 Axes>"
      ]
     },
     "metadata": {
      "needs_background": "light"
     },
     "output_type": "display_data"
    }
   ],
   "source": [
    "# Plot retweets\n",
    "plt.scatter(retweet_count.index, retweet_count)\n",
    "plt.xlabel('# of retweets')\n",
    "plt.ylabel('frequency')\n",
    "plt.title('Frequency of retweets')"
   ]
  },
  {
   "cell_type": "code",
   "execution_count": 27,
   "metadata": {},
   "outputs": [
    {
     "data": {
      "image/png": "[encoded data removed]",
      "text/plain": [
       "<Figure size 720x432 with 1 Axes>"
      ]
     },
     "metadata": {
      "needs_background": "light"
     },
     "output_type": "display_data"
    }
   ],
   "source": [
    "# Create a box plot of favorites and retweets\n",
    "x_labels = ['Favorites', 'Retweets']\n",
    "engagement_count_data = [fav_count, retweet_count]\n",
    "fig, ax = plt.subplots(figsize=(10, 6))\n",
    "ax.set_title('Engagement count data', fontsize=20)\n",
    "ax.set_ylabel('Count of engagement')\n",
    "ax.set_xlabel('Type of engagement')\n",
    "ax.boxplot(engagement_count_data, labels=x_labels)\n",
    "ax.set_yticks(np.arange(0, 100))\n",
    "ax.grid()"
   ]
  },
  {
   "cell_type": "code",
   "execution_count": 28,
   "metadata": {},
   "outputs": [
    {
     "data": {
      "text/html": [
       "<div>\n",
       "<style scoped>\n",
       "    .dataframe tbody tr th:only-of-type {\n",
       "        vertical-align: middle;\n",
       "    }\n",
       "\n",
       "    .dataframe tbody tr th {\n",
       "        vertical-align: top;\n",
       "    }\n",
       "\n",
       "    .dataframe thead th {\n",
       "        text-align: right;\n",
       "    }\n",
       "</style>\n",
       "<table border=\"1\" class=\"dataframe\">\n",
       "  <thead>\n",
       "    <tr style=\"text-align: right;\">\n",
       "      <th></th>\n",
       "      <th>tweet_id</th>\n",
       "      <th>user_id</th>\n",
       "      <th>created_at</th>\n",
       "      <th>screen_name</th>\n",
       "      <th>text</th>\n",
       "      <th>urls</th>\n",
       "      <th>favorite_count</th>\n",
       "      <th>retweet_count</th>\n",
       "      <th>URL</th>\n",
       "      <th>hashtags</th>\n",
       "      <th>has_media</th>\n",
       "      <th>is_quote</th>\n",
       "      <th>is_reply</th>\n",
       "      <th>is_retweet</th>\n",
       "      <th>Organization Name</th>\n",
       "      <th>text_clean</th>\n",
       "    </tr>\n",
       "  </thead>\n",
       "  <tbody>\n",
       "    <tr>\n",
       "      <th>88051</th>\n",
       "      <td>88055</td>\n",
       "      <td>425118862</td>\n",
       "      <td>2021-01-19 16:34:03</td>\n",
       "      <td>KitchLibrary</td>\n",
       "      <td>It's official! No more overdue fines, ever! 🙌🥳...</td>\n",
       "      <td>['https://t.co/SVlWM83PLJ']</td>\n",
       "      <td>578.0</td>\n",
       "      <td>142.0</td>\n",
       "      <td>https://twitter.com/i/web/status/1351568617226...</td>\n",
       "      <td>[]</td>\n",
       "      <td>False</td>\n",
       "      <td>False</td>\n",
       "      <td>False</td>\n",
       "      <td>False</td>\n",
       "      <td>Kitchener Public Library</td>\n",
       "      <td>Its official No more overdue fines ever \\n\\nWe...</td>\n",
       "    </tr>\n",
       "    <tr>\n",
       "      <th>88089</th>\n",
       "      <td>88093</td>\n",
       "      <td>425118862</td>\n",
       "      <td>2021-01-11 15:45:09</td>\n",
       "      <td>KitchLibrary</td>\n",
       "      <td>Be careful what you wish for 😉\\n\\nPictured: 85...</td>\n",
       "      <td>['https://t.co/aPCfFSemz0']</td>\n",
       "      <td>355.0</td>\n",
       "      <td>23.0</td>\n",
       "      <td>https://twitter.com/i/web/status/1348657207932...</td>\n",
       "      <td>[]</td>\n",
       "      <td>False</td>\n",
       "      <td>False</td>\n",
       "      <td>False</td>\n",
       "      <td>False</td>\n",
       "      <td>Kitchener Public Library</td>\n",
       "      <td>Be careful what you wish for \\n\\nPictured 85 i...</td>\n",
       "    </tr>\n",
       "    <tr>\n",
       "      <th>89111</th>\n",
       "      <td>89115</td>\n",
       "      <td>425118862</td>\n",
       "      <td>2020-03-22 18:01:04</td>\n",
       "      <td>KitchLibrary</td>\n",
       "      <td>Thank you to everyone who reached out to us ab...</td>\n",
       "      <td>['https://t.co/qy3U6EBYvU']</td>\n",
       "      <td>420.0</td>\n",
       "      <td>76.0</td>\n",
       "      <td>https://twitter.com/i/web/status/1241786989168...</td>\n",
       "      <td>['kwawesome']</td>\n",
       "      <td>False</td>\n",
       "      <td>True</td>\n",
       "      <td>False</td>\n",
       "      <td>False</td>\n",
       "      <td>Kitchener Public Library</td>\n",
       "      <td>Thank you to everyone who reached out to us ab...</td>\n",
       "    </tr>\n",
       "    <tr>\n",
       "      <th>89562</th>\n",
       "      <td>89566</td>\n",
       "      <td>425118862</td>\n",
       "      <td>2019-11-04 14:51:57</td>\n",
       "      <td>KitchLibrary</td>\n",
       "      <td>Access to menstrual products just got a little...</td>\n",
       "      <td>['https://t.co/ubab4HOStJ']</td>\n",
       "      <td>401.0</td>\n",
       "      <td>67.0</td>\n",
       "      <td>https://twitter.com/i/web/status/1191367483363...</td>\n",
       "      <td>[]</td>\n",
       "      <td>False</td>\n",
       "      <td>False</td>\n",
       "      <td>False</td>\n",
       "      <td>False</td>\n",
       "      <td>Kitchener Public Library</td>\n",
       "      <td>Access to menstrual products just got a little...</td>\n",
       "    </tr>\n",
       "  </tbody>\n",
       "</table>\n",
       "</div>"
      ],
      "text/plain": [
       "       tweet_id    user_id           created_at   screen_name  \\\n",
       "88051     88055  425118862  2021-01-19 16:34:03  KitchLibrary   \n",
       "88089     88093  425118862  2021-01-11 15:45:09  KitchLibrary   \n",
       "89111     89115  425118862  2020-03-22 18:01:04  KitchLibrary   \n",
       "89562     89566  425118862  2019-11-04 14:51:57  KitchLibrary   \n",
       "\n",
       "                                                    text  \\\n",
       "88051  It's official! No more overdue fines, ever! 🙌🥳...   \n",
       "88089  Be careful what you wish for 😉\\n\\nPictured: 85...   \n",
       "89111  Thank you to everyone who reached out to us ab...   \n",
       "89562  Access to menstrual products just got a little...   \n",
       "\n",
       "                              urls  favorite_count  retweet_count  \\\n",
       "88051  ['https://t.co/SVlWM83PLJ']           578.0          142.0   \n",
       "88089  ['https://t.co/aPCfFSemz0']           355.0           23.0   \n",
       "89111  ['https://t.co/qy3U6EBYvU']           420.0           76.0   \n",
       "89562  ['https://t.co/ubab4HOStJ']           401.0           67.0   \n",
       "\n",
       "                                                     URL       hashtags  \\\n",
       "88051  https://twitter.com/i/web/status/1351568617226...             []   \n",
       "88089  https://twitter.com/i/web/status/1348657207932...             []   \n",
       "89111  https://twitter.com/i/web/status/1241786989168...  ['kwawesome']   \n",
       "89562  https://twitter.com/i/web/status/1191367483363...             []   \n",
       "\n",
       "      has_media is_quote is_reply is_retweet         Organization Name  \\\n",
       "88051     False    False    False      False  Kitchener Public Library   \n",
       "88089     False    False    False      False  Kitchener Public Library   \n",
       "89111     False     True    False      False  Kitchener Public Library   \n",
       "89562     False    False    False      False  Kitchener Public Library   \n",
       "\n",
       "                                              text_clean  \n",
       "88051  Its official No more overdue fines ever \\n\\nWe...  \n",
       "88089  Be careful what you wish for \\n\\nPictured 85 i...  \n",
       "89111  Thank you to everyone who reached out to us ab...  \n",
       "89562  Access to menstrual products just got a little...  "
      ]
     },
     "execution_count": 28,
     "metadata": {},
     "output_type": "execute_result"
    }
   ],
   "source": [
    "# check data of the outliers in favorite count\n",
    "tweets1[tweets1['favorite_count'] > 300]"
   ]
  },
  {
   "cell_type": "code",
   "execution_count": 29,
   "metadata": {},
   "outputs": [
    {
     "data": {
      "text/html": [
       "<div>\n",
       "<style scoped>\n",
       "    .dataframe tbody tr th:only-of-type {\n",
       "        vertical-align: middle;\n",
       "    }\n",
       "\n",
       "    .dataframe tbody tr th {\n",
       "        vertical-align: top;\n",
       "    }\n",
       "\n",
       "    .dataframe thead th {\n",
       "        text-align: right;\n",
       "    }\n",
       "</style>\n",
       "<table border=\"1\" class=\"dataframe\">\n",
       "  <thead>\n",
       "    <tr style=\"text-align: right;\">\n",
       "      <th></th>\n",
       "      <th>tweet_id</th>\n",
       "      <th>user_id</th>\n",
       "      <th>created_at</th>\n",
       "      <th>screen_name</th>\n",
       "      <th>text</th>\n",
       "      <th>urls</th>\n",
       "      <th>favorite_count</th>\n",
       "      <th>retweet_count</th>\n",
       "      <th>URL</th>\n",
       "      <th>hashtags</th>\n",
       "      <th>has_media</th>\n",
       "      <th>is_quote</th>\n",
       "      <th>is_reply</th>\n",
       "      <th>is_retweet</th>\n",
       "      <th>Organization Name</th>\n",
       "      <th>text_clean</th>\n",
       "    </tr>\n",
       "  </thead>\n",
       "  <tbody>\n",
       "    <tr>\n",
       "      <th>2040</th>\n",
       "      <td>2040</td>\n",
       "      <td>756239429904334848</td>\n",
       "      <td>2017-08-17 20:13:51</td>\n",
       "      <td>AFROKitchener</td>\n",
       "      <td>RT @BarackObama: \"No one is born hating anothe...</td>\n",
       "      <td>['https://t.co']</td>\n",
       "      <td>0.0</td>\n",
       "      <td>1506563.0</td>\n",
       "      <td>NaN</td>\n",
       "      <td>[]</td>\n",
       "      <td>False</td>\n",
       "      <td>False</td>\n",
       "      <td>False</td>\n",
       "      <td>True</td>\n",
       "      <td>African Family Revival Organization</td>\n",
       "      <td>No one is born hating another person because o...</td>\n",
       "    </tr>\n",
       "    <tr>\n",
       "      <th>34308</th>\n",
       "      <td>34308</td>\n",
       "      <td>237301381</td>\n",
       "      <td>2017-08-17 02:08:05</td>\n",
       "      <td>ajustcommunity</td>\n",
       "      <td>RT @BarackObama: \"No one is born hating anothe...</td>\n",
       "      <td>['https://t.co']</td>\n",
       "      <td>0.0</td>\n",
       "      <td>1506561.0</td>\n",
       "      <td>NaN</td>\n",
       "      <td>[]</td>\n",
       "      <td>False</td>\n",
       "      <td>False</td>\n",
       "      <td>False</td>\n",
       "      <td>True</td>\n",
       "      <td>Community Justice Initiatives</td>\n",
       "      <td>No one is born hating another person because o...</td>\n",
       "    </tr>\n",
       "    <tr>\n",
       "      <th>47716</th>\n",
       "      <td>47718</td>\n",
       "      <td>930117559</td>\n",
       "      <td>2017-08-16 03:30:15</td>\n",
       "      <td>EAFWR</td>\n",
       "      <td>RT @BarackObama: \"No one is born hating anothe...</td>\n",
       "      <td>['https://t.co']</td>\n",
       "      <td>0.0</td>\n",
       "      <td>1506560.0</td>\n",
       "      <td>NaN</td>\n",
       "      <td>[]</td>\n",
       "      <td>False</td>\n",
       "      <td>False</td>\n",
       "      <td>False</td>\n",
       "      <td>True</td>\n",
       "      <td>Extend-A-Family Waterloo Region</td>\n",
       "      <td>No one is born hating another person because o...</td>\n",
       "    </tr>\n",
       "    <tr>\n",
       "      <th>104713</th>\n",
       "      <td>104717</td>\n",
       "      <td>1390797326</td>\n",
       "      <td>2018-06-01 17:18:28</td>\n",
       "      <td>KWMLA</td>\n",
       "      <td>RT @RandallTime: If the Cleveland Cavaliers wi...</td>\n",
       "      <td>[]</td>\n",
       "      <td>0.0</td>\n",
       "      <td>927427.0</td>\n",
       "      <td>NaN</td>\n",
       "      <td>[]</td>\n",
       "      <td>False</td>\n",
       "      <td>False</td>\n",
       "      <td>False</td>\n",
       "      <td>True</td>\n",
       "      <td>KW Minor Lacrosse Association</td>\n",
       "      <td>If the Cleveland Cavaliers win the 2018 NBA fi...</td>\n",
       "    </tr>\n",
       "  </tbody>\n",
       "</table>\n",
       "</div>"
      ],
      "text/plain": [
       "        tweet_id             user_id           created_at     screen_name  \\\n",
       "2040        2040  756239429904334848  2017-08-17 20:13:51   AFROKitchener   \n",
       "34308      34308           237301381  2017-08-17 02:08:05  ajustcommunity   \n",
       "47716      47718           930117559  2017-08-16 03:30:15           EAFWR   \n",
       "104713    104717          1390797326  2018-06-01 17:18:28           KWMLA   \n",
       "\n",
       "                                                     text              urls  \\\n",
       "2040    RT @BarackObama: \"No one is born hating anothe...  ['https://t.co']   \n",
       "34308   RT @BarackObama: \"No one is born hating anothe...  ['https://t.co']   \n",
       "47716   RT @BarackObama: \"No one is born hating anothe...  ['https://t.co']   \n",
       "104713  RT @RandallTime: If the Cleveland Cavaliers wi...                []   \n",
       "\n",
       "        favorite_count  retweet_count  URL hashtags has_media is_quote  \\\n",
       "2040               0.0      1506563.0  NaN       []     False    False   \n",
       "34308              0.0      1506561.0  NaN       []     False    False   \n",
       "47716              0.0      1506560.0  NaN       []     False    False   \n",
       "104713             0.0       927427.0  NaN       []     False    False   \n",
       "\n",
       "       is_reply is_retweet                    Organization Name  \\\n",
       "2040      False       True  African Family Revival Organization   \n",
       "34308     False       True        Community Justice Initiatives   \n",
       "47716     False       True      Extend-A-Family Waterloo Region   \n",
       "104713    False       True        KW Minor Lacrosse Association   \n",
       "\n",
       "                                               text_clean  \n",
       "2040    No one is born hating another person because o...  \n",
       "34308   No one is born hating another person because o...  \n",
       "47716   No one is born hating another person because o...  \n",
       "104713  If the Cleveland Cavaliers win the 2018 NBA fi...  "
      ]
     },
     "execution_count": 29,
     "metadata": {},
     "output_type": "execute_result"
    }
   ],
   "source": [
    "# check the outlier in retweet count\n",
    "tweets1[tweets1['retweet_count'] > 900000]"
   ]
  },
  {
   "cell_type": "markdown",
   "metadata": {},
   "source": [
    "## What are the common themes for posts that drive engagement?\n",
    "\n",
    "We will measure engagement by the count of favorites and retweets"
   ]
  },
  {
   "cell_type": "code",
   "execution_count": 30,
   "metadata": {},
   "outputs": [],
   "source": [
    "# Define threshhold for engagement at 3rd quartile\n",
    "high_engagement_df = tweets1[(tweets1['favorite_count'] > (tweets1['favorite_count'].quantile(q=0.75))) \n",
    "                             | (tweets1['retweet_count'] > (tweets1['retweet_count'].quantile(q=0.75)))]"
   ]
  },
  {
   "cell_type": "code",
   "execution_count": 31,
   "metadata": {},
   "outputs": [
    {
     "data": {
      "text/plain": [
       "False"
      ]
     },
     "execution_count": 31,
     "metadata": {},
     "output_type": "execute_result"
    }
   ],
   "source": [
    "# Check for duplication\n",
    "high_engagement_df.duplicated().any()"
   ]
  },
  {
   "cell_type": "code",
   "execution_count": 32,
   "metadata": {},
   "outputs": [
    {
     "data": {
      "text/plain": [
       "Text(0.09, 0.5, 'Retweets Count')"
      ]
     },
     "execution_count": 32,
     "metadata": {},
     "output_type": "execute_result"
    },
    {
     "data": {
      "image/png": "[encoded data removed]",
      "text/plain": [
       "<Figure size 1440x1440 with 10 Axes>"
      ]
     },
     "metadata": {
      "needs_background": "light"
     },
     "output_type": "display_data"
    }
   ],
   "source": [
    "# Plot potential factors that impact enagement\n",
    "fig, axes = plt.subplots(5, 2, figsize=(20,20))\n",
    "\n",
    "axes[0, 0].scatter(x='favorite_count', y='retweet_count', data=high_engagement_df[high_engagement_df['has_media'] == False])\n",
    "axes[0, 1].scatter(x='favorite_count', y='retweet_count', data=high_engagement_df[high_engagement_df['has_media'] == True])\n",
    "axes[1, 0].scatter(x='favorite_count', y='retweet_count', data=high_engagement_df[high_engagement_df['is_quote'] == False])\n",
    "axes[1, 1].scatter(x='favorite_count', y='retweet_count', data=high_engagement_df[high_engagement_df['is_quote'] == True])\n",
    "axes[2, 0].scatter(x='favorite_count', y='retweet_count', data=high_engagement_df[high_engagement_df['is_reply'] == False])\n",
    "axes[2, 1].scatter(x='favorite_count', y='retweet_count', data=high_engagement_df[high_engagement_df['is_reply'] == True])\n",
    "axes[3, 0].scatter(x='favorite_count', y='retweet_count', data=high_engagement_df[high_engagement_df['is_retweet'] == False])\n",
    "axes[3, 1].scatter(x='favorite_count', y='retweet_count', data=high_engagement_df[high_engagement_df['is_retweet'] == True])\n",
    "axes[4, 0].scatter(x='favorite_count', y='retweet_count', data=high_engagement_df[high_engagement_df['hashtags'] == '[]'])\n",
    "axes[4, 1].scatter(x='favorite_count', y='retweet_count', data=high_engagement_df[high_engagement_df['hashtags'] != '[]'])\n",
    "\n",
    "\n",
    "# labels and annotations\n",
    "axes[0, 0].set_title('No media')\n",
    "axes[0, 1].set_title('With media')\n",
    "axes[1, 0].set_title('No quote')\n",
    "axes[1, 1].set_title('With quote')\n",
    "axes[2, 0].set_title('Not reply')\n",
    "axes[2, 1].set_title('Is reply')\n",
    "axes[3, 0].set_title('Not retweet')\n",
    "axes[3, 1].set_title('Retweet')\n",
    "axes[4, 0].set_title('No hashtags')\n",
    "axes[4, 1].set_title('With hashtags')\n",
    "\n",
    "fig.text(0.5, 0.1, 'Favorites Count', ha='center', fontsize=15)\n",
    "fig.text(0.09, 0.5, 'Retweets Count', va='center', rotation='vertical', fontsize=15)"
   ]
  },
  {
   "cell_type": "markdown",
   "metadata": {},
   "source": [
    "## Which posts have the maximum engagement?"
   ]
  },
  {
   "cell_type": "code",
   "execution_count": 33,
   "metadata": {},
   "outputs": [
    {
     "data": {
      "text/html": [
       "<div>\n",
       "<style scoped>\n",
       "    .dataframe tbody tr th:only-of-type {\n",
       "        vertical-align: middle;\n",
       "    }\n",
       "\n",
       "    .dataframe tbody tr th {\n",
       "        vertical-align: top;\n",
       "    }\n",
       "\n",
       "    .dataframe thead th {\n",
       "        text-align: right;\n",
       "    }\n",
       "</style>\n",
       "<table border=\"1\" class=\"dataframe\">\n",
       "  <thead>\n",
       "    <tr style=\"text-align: right;\">\n",
       "      <th></th>\n",
       "      <th>tweet_id</th>\n",
       "      <th>user_id</th>\n",
       "      <th>created_at</th>\n",
       "      <th>screen_name</th>\n",
       "      <th>text</th>\n",
       "      <th>urls</th>\n",
       "      <th>favorite_count</th>\n",
       "      <th>retweet_count</th>\n",
       "      <th>URL</th>\n",
       "      <th>hashtags</th>\n",
       "      <th>has_media</th>\n",
       "      <th>is_quote</th>\n",
       "      <th>is_reply</th>\n",
       "      <th>is_retweet</th>\n",
       "      <th>Organization Name</th>\n",
       "      <th>text_clean</th>\n",
       "    </tr>\n",
       "  </thead>\n",
       "  <tbody>\n",
       "    <tr>\n",
       "      <th>2040</th>\n",
       "      <td>2040</td>\n",
       "      <td>756239429904334848</td>\n",
       "      <td>2017-08-17 20:13:51</td>\n",
       "      <td>AFROKitchener</td>\n",
       "      <td>RT @BarackObama: \"No one is born hating anothe...</td>\n",
       "      <td>['https://t.co']</td>\n",
       "      <td>0.0</td>\n",
       "      <td>1506563.0</td>\n",
       "      <td>NaN</td>\n",
       "      <td>[]</td>\n",
       "      <td>False</td>\n",
       "      <td>False</td>\n",
       "      <td>False</td>\n",
       "      <td>True</td>\n",
       "      <td>African Family Revival Organization</td>\n",
       "      <td>No one is born hating another person because o...</td>\n",
       "    </tr>\n",
       "    <tr>\n",
       "      <th>34308</th>\n",
       "      <td>34308</td>\n",
       "      <td>237301381</td>\n",
       "      <td>2017-08-17 02:08:05</td>\n",
       "      <td>ajustcommunity</td>\n",
       "      <td>RT @BarackObama: \"No one is born hating anothe...</td>\n",
       "      <td>['https://t.co']</td>\n",
       "      <td>0.0</td>\n",
       "      <td>1506561.0</td>\n",
       "      <td>NaN</td>\n",
       "      <td>[]</td>\n",
       "      <td>False</td>\n",
       "      <td>False</td>\n",
       "      <td>False</td>\n",
       "      <td>True</td>\n",
       "      <td>Community Justice Initiatives</td>\n",
       "      <td>No one is born hating another person because o...</td>\n",
       "    </tr>\n",
       "    <tr>\n",
       "      <th>47716</th>\n",
       "      <td>47718</td>\n",
       "      <td>930117559</td>\n",
       "      <td>2017-08-16 03:30:15</td>\n",
       "      <td>EAFWR</td>\n",
       "      <td>RT @BarackObama: \"No one is born hating anothe...</td>\n",
       "      <td>['https://t.co']</td>\n",
       "      <td>0.0</td>\n",
       "      <td>1506560.0</td>\n",
       "      <td>NaN</td>\n",
       "      <td>[]</td>\n",
       "      <td>False</td>\n",
       "      <td>False</td>\n",
       "      <td>False</td>\n",
       "      <td>True</td>\n",
       "      <td>Extend-A-Family Waterloo Region</td>\n",
       "      <td>No one is born hating another person because o...</td>\n",
       "    </tr>\n",
       "    <tr>\n",
       "      <th>104713</th>\n",
       "      <td>104717</td>\n",
       "      <td>1390797326</td>\n",
       "      <td>2018-06-01 17:18:28</td>\n",
       "      <td>KWMLA</td>\n",
       "      <td>RT @RandallTime: If the Cleveland Cavaliers wi...</td>\n",
       "      <td>[]</td>\n",
       "      <td>0.0</td>\n",
       "      <td>927427.0</td>\n",
       "      <td>NaN</td>\n",
       "      <td>[]</td>\n",
       "      <td>False</td>\n",
       "      <td>False</td>\n",
       "      <td>False</td>\n",
       "      <td>True</td>\n",
       "      <td>KW Minor Lacrosse Association</td>\n",
       "      <td>If the Cleveland Cavaliers win the 2018 NBA fi...</td>\n",
       "    </tr>\n",
       "    <tr>\n",
       "      <th>112921</th>\n",
       "      <td>112925</td>\n",
       "      <td>97226830</td>\n",
       "      <td>2020-06-04 19:59:04</td>\n",
       "      <td>mccorg</td>\n",
       "      <td>RT @Levance_: Know the difference. https://t.c...</td>\n",
       "      <td>['https://t.co/einoHMXvHn']</td>\n",
       "      <td>0.0</td>\n",
       "      <td>542365.0</td>\n",
       "      <td>NaN</td>\n",
       "      <td>[]</td>\n",
       "      <td>True</td>\n",
       "      <td>False</td>\n",
       "      <td>False</td>\n",
       "      <td>True</td>\n",
       "      <td>Mennonite Central Committee Ontario (MCC)</td>\n",
       "      <td>Know the difference</td>\n",
       "    </tr>\n",
       "    <tr>\n",
       "      <th>135266</th>\n",
       "      <td>135270</td>\n",
       "      <td>247092883</td>\n",
       "      <td>2017-08-13 13:55:38</td>\n",
       "      <td>SASCWR</td>\n",
       "      <td>RT @BarackObama: \"People must learn to hate, a...</td>\n",
       "      <td>[]</td>\n",
       "      <td>0.0</td>\n",
       "      <td>430275.0</td>\n",
       "      <td>NaN</td>\n",
       "      <td>[]</td>\n",
       "      <td>False</td>\n",
       "      <td>False</td>\n",
       "      <td>False</td>\n",
       "      <td>True</td>\n",
       "      <td>Sexual Assault Support Centre of Waterloo Region</td>\n",
       "      <td>People must learn to hate and if they can lear...</td>\n",
       "    </tr>\n",
       "    <tr>\n",
       "      <th>135526</th>\n",
       "      <td>135530</td>\n",
       "      <td>247092883</td>\n",
       "      <td>2017-01-29 14:31:03</td>\n",
       "      <td>SASCWR</td>\n",
       "      <td>RT @JustinTrudeau: To those fleeing persecutio...</td>\n",
       "      <td>[]</td>\n",
       "      <td>0.0</td>\n",
       "      <td>362018.0</td>\n",
       "      <td>NaN</td>\n",
       "      <td>[]</td>\n",
       "      <td>False</td>\n",
       "      <td>False</td>\n",
       "      <td>False</td>\n",
       "      <td>True</td>\n",
       "      <td>Sexual Assault Support Centre of Waterloo Region</td>\n",
       "      <td>To those fleeing persecution terror amp war Ca...</td>\n",
       "    </tr>\n",
       "    <tr>\n",
       "      <th>33891</th>\n",
       "      <td>33891</td>\n",
       "      <td>237301381</td>\n",
       "      <td>2018-01-16 11:58:33</td>\n",
       "      <td>ajustcommunity</td>\n",
       "      <td>RT @BarackObama: Dr. King was 26 when the Mont...</td>\n",
       "      <td>[]</td>\n",
       "      <td>0.0</td>\n",
       "      <td>323672.0</td>\n",
       "      <td>NaN</td>\n",
       "      <td>[]</td>\n",
       "      <td>False</td>\n",
       "      <td>False</td>\n",
       "      <td>False</td>\n",
       "      <td>True</td>\n",
       "      <td>Community Justice Initiatives</td>\n",
       "      <td>Dr King was 26 when the Montgomery bus boycott...</td>\n",
       "    </tr>\n",
       "    <tr>\n",
       "      <th>48973</th>\n",
       "      <td>48975</td>\n",
       "      <td>407150796</td>\n",
       "      <td>2017-01-26 02:55:00</td>\n",
       "      <td>Fiddlesticks_CC</td>\n",
       "      <td>RT @TheEllenShow: For every retweet of this, B...</td>\n",
       "      <td>[]</td>\n",
       "      <td>0.0</td>\n",
       "      <td>259988.0</td>\n",
       "      <td>NaN</td>\n",
       "      <td>[]</td>\n",
       "      <td>False</td>\n",
       "      <td>False</td>\n",
       "      <td>False</td>\n",
       "      <td>True</td>\n",
       "      <td>Fiddlesticks Community Centre</td>\n",
       "      <td>For every retweet of this Bell will donate 5 c...</td>\n",
       "    </tr>\n",
       "    <tr>\n",
       "      <th>96101</th>\n",
       "      <td>96105</td>\n",
       "      <td>2484729745</td>\n",
       "      <td>2018-08-21 14:58:54</td>\n",
       "      <td>KWMulticultural</td>\n",
       "      <td>RT @autumnbragwell: let’s settle this:\\nDoes p...</td>\n",
       "      <td>[]</td>\n",
       "      <td>0.0</td>\n",
       "      <td>225045.0</td>\n",
       "      <td>NaN</td>\n",
       "      <td>[]</td>\n",
       "      <td>False</td>\n",
       "      <td>False</td>\n",
       "      <td>False</td>\n",
       "      <td>True</td>\n",
       "      <td>Kitchener-Waterloo Multicultural Centre</td>\n",
       "      <td>let’s settle this\\nDoes pineapple belong on pi...</td>\n",
       "    </tr>\n",
       "  </tbody>\n",
       "</table>\n",
       "</div>"
      ],
      "text/plain": [
       "        tweet_id             user_id           created_at      screen_name  \\\n",
       "2040        2040  756239429904334848  2017-08-17 20:13:51    AFROKitchener   \n",
       "34308      34308           237301381  2017-08-17 02:08:05   ajustcommunity   \n",
       "47716      47718           930117559  2017-08-16 03:30:15            EAFWR   \n",
       "104713    104717          1390797326  2018-06-01 17:18:28            KWMLA   \n",
       "112921    112925            97226830  2020-06-04 19:59:04           mccorg   \n",
       "135266    135270           247092883  2017-08-13 13:55:38           SASCWR   \n",
       "135526    135530           247092883  2017-01-29 14:31:03           SASCWR   \n",
       "33891      33891           237301381  2018-01-16 11:58:33   ajustcommunity   \n",
       "48973      48975           407150796  2017-01-26 02:55:00  Fiddlesticks_CC   \n",
       "96101      96105          2484729745  2018-08-21 14:58:54  KWMulticultural   \n",
       "\n",
       "                                                     text  \\\n",
       "2040    RT @BarackObama: \"No one is born hating anothe...   \n",
       "34308   RT @BarackObama: \"No one is born hating anothe...   \n",
       "47716   RT @BarackObama: \"No one is born hating anothe...   \n",
       "104713  RT @RandallTime: If the Cleveland Cavaliers wi...   \n",
       "112921  RT @Levance_: Know the difference. https://t.c...   \n",
       "135266  RT @BarackObama: \"People must learn to hate, a...   \n",
       "135526  RT @JustinTrudeau: To those fleeing persecutio...   \n",
       "33891   RT @BarackObama: Dr. King was 26 when the Mont...   \n",
       "48973   RT @TheEllenShow: For every retweet of this, B...   \n",
       "96101   RT @autumnbragwell: let’s settle this:\\nDoes p...   \n",
       "\n",
       "                               urls  favorite_count  retweet_count  URL  \\\n",
       "2040               ['https://t.co']             0.0      1506563.0  NaN   \n",
       "34308              ['https://t.co']             0.0      1506561.0  NaN   \n",
       "47716              ['https://t.co']             0.0      1506560.0  NaN   \n",
       "104713                           []             0.0       927427.0  NaN   \n",
       "112921  ['https://t.co/einoHMXvHn']             0.0       542365.0  NaN   \n",
       "135266                           []             0.0       430275.0  NaN   \n",
       "135526                           []             0.0       362018.0  NaN   \n",
       "33891                            []             0.0       323672.0  NaN   \n",
       "48973                            []             0.0       259988.0  NaN   \n",
       "96101                            []             0.0       225045.0  NaN   \n",
       "\n",
       "       hashtags has_media is_quote is_reply is_retweet  \\\n",
       "2040         []     False    False    False       True   \n",
       "34308        []     False    False    False       True   \n",
       "47716        []     False    False    False       True   \n",
       "104713       []     False    False    False       True   \n",
       "112921       []      True    False    False       True   \n",
       "135266       []     False    False    False       True   \n",
       "135526       []     False    False    False       True   \n",
       "33891        []     False    False    False       True   \n",
       "48973        []     False    False    False       True   \n",
       "96101        []     False    False    False       True   \n",
       "\n",
       "                                       Organization Name  \\\n",
       "2040                 African Family Revival Organization   \n",
       "34308                      Community Justice Initiatives   \n",
       "47716                    Extend-A-Family Waterloo Region   \n",
       "104713                     KW Minor Lacrosse Association   \n",
       "112921         Mennonite Central Committee Ontario (MCC)   \n",
       "135266  Sexual Assault Support Centre of Waterloo Region   \n",
       "135526  Sexual Assault Support Centre of Waterloo Region   \n",
       "33891                      Community Justice Initiatives   \n",
       "48973                      Fiddlesticks Community Centre   \n",
       "96101            Kitchener-Waterloo Multicultural Centre   \n",
       "\n",
       "                                               text_clean  \n",
       "2040    No one is born hating another person because o...  \n",
       "34308   No one is born hating another person because o...  \n",
       "47716   No one is born hating another person because o...  \n",
       "104713  If the Cleveland Cavaliers win the 2018 NBA fi...  \n",
       "112921                               Know the difference   \n",
       "135266  People must learn to hate and if they can lear...  \n",
       "135526  To those fleeing persecution terror amp war Ca...  \n",
       "33891   Dr King was 26 when the Montgomery bus boycott...  \n",
       "48973   For every retweet of this Bell will donate 5 c...  \n",
       "96101   let’s settle this\\nDoes pineapple belong on pi...  "
      ]
     },
     "execution_count": 33,
     "metadata": {},
     "output_type": "execute_result"
    }
   ],
   "source": [
    "# posts with most retweets\n",
    "high_engagement_df.sort_values('retweet_count', ascending=False).head(10)"
   ]
  },
  {
   "cell_type": "code",
   "execution_count": 34,
   "metadata": {},
   "outputs": [
    {
     "data": {
      "text/html": [
       "<div>\n",
       "<style scoped>\n",
       "    .dataframe tbody tr th:only-of-type {\n",
       "        vertical-align: middle;\n",
       "    }\n",
       "\n",
       "    .dataframe tbody tr th {\n",
       "        vertical-align: top;\n",
       "    }\n",
       "\n",
       "    .dataframe thead th {\n",
       "        text-align: right;\n",
       "    }\n",
       "</style>\n",
       "<table border=\"1\" class=\"dataframe\">\n",
       "  <thead>\n",
       "    <tr style=\"text-align: right;\">\n",
       "      <th></th>\n",
       "      <th>tweet_id</th>\n",
       "      <th>user_id</th>\n",
       "      <th>created_at</th>\n",
       "      <th>screen_name</th>\n",
       "      <th>text</th>\n",
       "      <th>urls</th>\n",
       "      <th>favorite_count</th>\n",
       "      <th>retweet_count</th>\n",
       "      <th>URL</th>\n",
       "      <th>hashtags</th>\n",
       "      <th>has_media</th>\n",
       "      <th>is_quote</th>\n",
       "      <th>is_reply</th>\n",
       "      <th>is_retweet</th>\n",
       "      <th>Organization Name</th>\n",
       "      <th>text_clean</th>\n",
       "    </tr>\n",
       "  </thead>\n",
       "  <tbody>\n",
       "    <tr>\n",
       "      <th>88051</th>\n",
       "      <td>88055</td>\n",
       "      <td>425118862</td>\n",
       "      <td>2021-01-19 16:34:03</td>\n",
       "      <td>KitchLibrary</td>\n",
       "      <td>It's official! No more overdue fines, ever! 🙌🥳...</td>\n",
       "      <td>['https://t.co/SVlWM83PLJ']</td>\n",
       "      <td>578.0</td>\n",
       "      <td>142.0</td>\n",
       "      <td>https://twitter.com/i/web/status/1351568617226...</td>\n",
       "      <td>[]</td>\n",
       "      <td>False</td>\n",
       "      <td>False</td>\n",
       "      <td>False</td>\n",
       "      <td>False</td>\n",
       "      <td>Kitchener Public Library</td>\n",
       "      <td>Its official No more overdue fines ever \\n\\nWe...</td>\n",
       "    </tr>\n",
       "    <tr>\n",
       "      <th>89111</th>\n",
       "      <td>89115</td>\n",
       "      <td>425118862</td>\n",
       "      <td>2020-03-22 18:01:04</td>\n",
       "      <td>KitchLibrary</td>\n",
       "      <td>Thank you to everyone who reached out to us ab...</td>\n",
       "      <td>['https://t.co/qy3U6EBYvU']</td>\n",
       "      <td>420.0</td>\n",
       "      <td>76.0</td>\n",
       "      <td>https://twitter.com/i/web/status/1241786989168...</td>\n",
       "      <td>['kwawesome']</td>\n",
       "      <td>False</td>\n",
       "      <td>True</td>\n",
       "      <td>False</td>\n",
       "      <td>False</td>\n",
       "      <td>Kitchener Public Library</td>\n",
       "      <td>Thank you to everyone who reached out to us ab...</td>\n",
       "    </tr>\n",
       "    <tr>\n",
       "      <th>89562</th>\n",
       "      <td>89566</td>\n",
       "      <td>425118862</td>\n",
       "      <td>2019-11-04 14:51:57</td>\n",
       "      <td>KitchLibrary</td>\n",
       "      <td>Access to menstrual products just got a little...</td>\n",
       "      <td>['https://t.co/ubab4HOStJ']</td>\n",
       "      <td>401.0</td>\n",
       "      <td>67.0</td>\n",
       "      <td>https://twitter.com/i/web/status/1191367483363...</td>\n",
       "      <td>[]</td>\n",
       "      <td>False</td>\n",
       "      <td>False</td>\n",
       "      <td>False</td>\n",
       "      <td>False</td>\n",
       "      <td>Kitchener Public Library</td>\n",
       "      <td>Access to menstrual products just got a little...</td>\n",
       "    </tr>\n",
       "    <tr>\n",
       "      <th>88089</th>\n",
       "      <td>88093</td>\n",
       "      <td>425118862</td>\n",
       "      <td>2021-01-11 15:45:09</td>\n",
       "      <td>KitchLibrary</td>\n",
       "      <td>Be careful what you wish for 😉\\n\\nPictured: 85...</td>\n",
       "      <td>['https://t.co/aPCfFSemz0']</td>\n",
       "      <td>355.0</td>\n",
       "      <td>23.0</td>\n",
       "      <td>https://twitter.com/i/web/status/1348657207932...</td>\n",
       "      <td>[]</td>\n",
       "      <td>False</td>\n",
       "      <td>False</td>\n",
       "      <td>False</td>\n",
       "      <td>False</td>\n",
       "      <td>Kitchener Public Library</td>\n",
       "      <td>Be careful what you wish for \\n\\nPictured 85 i...</td>\n",
       "    </tr>\n",
       "    <tr>\n",
       "      <th>79263</th>\n",
       "      <td>79267</td>\n",
       "      <td>229574255</td>\n",
       "      <td>2019-02-27 12:01:37</td>\n",
       "      <td>KidsAbility</td>\n",
       "      <td>With bullying in schools, workplaces, homes an...</td>\n",
       "      <td>['https://t.co/V6jBXVtoev']</td>\n",
       "      <td>297.0</td>\n",
       "      <td>180.0</td>\n",
       "      <td>https://twitter.com/i/web/status/1100727651889...</td>\n",
       "      <td>[]</td>\n",
       "      <td>False</td>\n",
       "      <td>False</td>\n",
       "      <td>False</td>\n",
       "      <td>False</td>\n",
       "      <td>KidsAbility Centre for Child Development</td>\n",
       "      <td>With bullying in schools workplaces homes and ...</td>\n",
       "    </tr>\n",
       "    <tr>\n",
       "      <th>89572</th>\n",
       "      <td>89576</td>\n",
       "      <td>425118862</td>\n",
       "      <td>2019-10-25 13:38:24</td>\n",
       "      <td>KitchLibrary</td>\n",
       "      <td>Coming soon! We’re excited to announce that st...</td>\n",
       "      <td>['https://t.co/CGkPZJURkN']</td>\n",
       "      <td>283.0</td>\n",
       "      <td>52.0</td>\n",
       "      <td>https://twitter.com/i/web/status/1187725094694...</td>\n",
       "      <td>[]</td>\n",
       "      <td>False</td>\n",
       "      <td>False</td>\n",
       "      <td>False</td>\n",
       "      <td>False</td>\n",
       "      <td>Kitchener Public Library</td>\n",
       "      <td>Coming soon We’re excited to announce that sta...</td>\n",
       "    </tr>\n",
       "    <tr>\n",
       "      <th>90010</th>\n",
       "      <td>90014</td>\n",
       "      <td>425118862</td>\n",
       "      <td>2019-06-10 17:59:38</td>\n",
       "      <td>KitchLibrary</td>\n",
       "      <td>Do people even USE libraries anymore?! Yes, an...</td>\n",
       "      <td>['https://t.co/JCOAHQIAAB']</td>\n",
       "      <td>259.0</td>\n",
       "      <td>46.0</td>\n",
       "      <td>NaN</td>\n",
       "      <td>[]</td>\n",
       "      <td>True</td>\n",
       "      <td>False</td>\n",
       "      <td>False</td>\n",
       "      <td>False</td>\n",
       "      <td>Kitchener Public Library</td>\n",
       "      <td>Do people even USE libraries anymore Yes and t...</td>\n",
       "    </tr>\n",
       "    <tr>\n",
       "      <th>89372</th>\n",
       "      <td>89376</td>\n",
       "      <td>425118862</td>\n",
       "      <td>2020-01-11 15:27:27</td>\n",
       "      <td>KitchLibrary</td>\n",
       "      <td>Rainy days are perfect for curling up with a g...</td>\n",
       "      <td>['https://t.co/xtyjF3KtcS']</td>\n",
       "      <td>203.0</td>\n",
       "      <td>40.0</td>\n",
       "      <td>https://twitter.com/i/web/status/1216018791215...</td>\n",
       "      <td>[]</td>\n",
       "      <td>False</td>\n",
       "      <td>False</td>\n",
       "      <td>False</td>\n",
       "      <td>False</td>\n",
       "      <td>Kitchener Public Library</td>\n",
       "      <td>Rainy days are perfect for curling up with a g...</td>\n",
       "    </tr>\n",
       "    <tr>\n",
       "      <th>60929</th>\n",
       "      <td>60933</td>\n",
       "      <td>217184053</td>\n",
       "      <td>2020-06-19 19:42:25</td>\n",
       "      <td>hofwatreg</td>\n",
       "      <td>This week, we lost a bright light at House of ...</td>\n",
       "      <td>['https://t.co/1Fs9qbRfxv']</td>\n",
       "      <td>192.0</td>\n",
       "      <td>18.0</td>\n",
       "      <td>https://twitter.com/i/web/status/1274065015134...</td>\n",
       "      <td>[]</td>\n",
       "      <td>False</td>\n",
       "      <td>False</td>\n",
       "      <td>False</td>\n",
       "      <td>False</td>\n",
       "      <td>House of Friendship</td>\n",
       "      <td>This week we lost a bright light at House of F...</td>\n",
       "    </tr>\n",
       "    <tr>\n",
       "      <th>94412</th>\n",
       "      <td>94416</td>\n",
       "      <td>78378682</td>\n",
       "      <td>2019-04-15 18:47:15</td>\n",
       "      <td>kwartgallery</td>\n",
       "      <td>Heartbroken at the devastation of #NotreDame, ...</td>\n",
       "      <td>['https://t.co/UyR7KjdWd3']</td>\n",
       "      <td>174.0</td>\n",
       "      <td>53.0</td>\n",
       "      <td>https://twitter.com/i/web/status/1117861964527...</td>\n",
       "      <td>['NotreDame']</td>\n",
       "      <td>False</td>\n",
       "      <td>False</td>\n",
       "      <td>False</td>\n",
       "      <td>False</td>\n",
       "      <td>Kitchener-Waterloo Art Gallery</td>\n",
       "      <td>Heartbroken at the devastation of NotreDame a ...</td>\n",
       "    </tr>\n",
       "  </tbody>\n",
       "</table>\n",
       "</div>"
      ],
      "text/plain": [
       "       tweet_id    user_id           created_at   screen_name  \\\n",
       "88051     88055  425118862  2021-01-19 16:34:03  KitchLibrary   \n",
       "89111     89115  425118862  2020-03-22 18:01:04  KitchLibrary   \n",
       "89562     89566  425118862  2019-11-04 14:51:57  KitchLibrary   \n",
       "88089     88093  425118862  2021-01-11 15:45:09  KitchLibrary   \n",
       "79263     79267  229574255  2019-02-27 12:01:37   KidsAbility   \n",
       "89572     89576  425118862  2019-10-25 13:38:24  KitchLibrary   \n",
       "90010     90014  425118862  2019-06-10 17:59:38  KitchLibrary   \n",
       "89372     89376  425118862  2020-01-11 15:27:27  KitchLibrary   \n",
       "60929     60933  217184053  2020-06-19 19:42:25     hofwatreg   \n",
       "94412     94416   78378682  2019-04-15 18:47:15  kwartgallery   \n",
       "\n",
       "                                                    text  \\\n",
       "88051  It's official! No more overdue fines, ever! 🙌🥳...   \n",
       "89111  Thank you to everyone who reached out to us ab...   \n",
       "89562  Access to menstrual products just got a little...   \n",
       "88089  Be careful what you wish for 😉\\n\\nPictured: 85...   \n",
       "79263  With bullying in schools, workplaces, homes an...   \n",
       "89572  Coming soon! We’re excited to announce that st...   \n",
       "90010  Do people even USE libraries anymore?! Yes, an...   \n",
       "89372  Rainy days are perfect for curling up with a g...   \n",
       "60929  This week, we lost a bright light at House of ...   \n",
       "94412  Heartbroken at the devastation of #NotreDame, ...   \n",
       "\n",
       "                              urls  favorite_count  retweet_count  \\\n",
       "88051  ['https://t.co/SVlWM83PLJ']           578.0          142.0   \n",
       "89111  ['https://t.co/qy3U6EBYvU']           420.0           76.0   \n",
       "89562  ['https://t.co/ubab4HOStJ']           401.0           67.0   \n",
       "88089  ['https://t.co/aPCfFSemz0']           355.0           23.0   \n",
       "79263  ['https://t.co/V6jBXVtoev']           297.0          180.0   \n",
       "89572  ['https://t.co/CGkPZJURkN']           283.0           52.0   \n",
       "90010  ['https://t.co/JCOAHQIAAB']           259.0           46.0   \n",
       "89372  ['https://t.co/xtyjF3KtcS']           203.0           40.0   \n",
       "60929  ['https://t.co/1Fs9qbRfxv']           192.0           18.0   \n",
       "94412  ['https://t.co/UyR7KjdWd3']           174.0           53.0   \n",
       "\n",
       "                                                     URL       hashtags  \\\n",
       "88051  https://twitter.com/i/web/status/1351568617226...             []   \n",
       "89111  https://twitter.com/i/web/status/1241786989168...  ['kwawesome']   \n",
       "89562  https://twitter.com/i/web/status/1191367483363...             []   \n",
       "88089  https://twitter.com/i/web/status/1348657207932...             []   \n",
       "79263  https://twitter.com/i/web/status/1100727651889...             []   \n",
       "89572  https://twitter.com/i/web/status/1187725094694...             []   \n",
       "90010                                                NaN             []   \n",
       "89372  https://twitter.com/i/web/status/1216018791215...             []   \n",
       "60929  https://twitter.com/i/web/status/1274065015134...             []   \n",
       "94412  https://twitter.com/i/web/status/1117861964527...  ['NotreDame']   \n",
       "\n",
       "      has_media is_quote is_reply is_retweet  \\\n",
       "88051     False    False    False      False   \n",
       "89111     False     True    False      False   \n",
       "89562     False    False    False      False   \n",
       "88089     False    False    False      False   \n",
       "79263     False    False    False      False   \n",
       "89572     False    False    False      False   \n",
       "90010      True    False    False      False   \n",
       "89372     False    False    False      False   \n",
       "60929     False    False    False      False   \n",
       "94412     False    False    False      False   \n",
       "\n",
       "                              Organization Name  \\\n",
       "88051                  Kitchener Public Library   \n",
       "89111                  Kitchener Public Library   \n",
       "89562                  Kitchener Public Library   \n",
       "88089                  Kitchener Public Library   \n",
       "79263  KidsAbility Centre for Child Development   \n",
       "89572                  Kitchener Public Library   \n",
       "90010                  Kitchener Public Library   \n",
       "89372                  Kitchener Public Library   \n",
       "60929                       House of Friendship   \n",
       "94412            Kitchener-Waterloo Art Gallery   \n",
       "\n",
       "                                              text_clean  \n",
       "88051  Its official No more overdue fines ever \\n\\nWe...  \n",
       "89111  Thank you to everyone who reached out to us ab...  \n",
       "89562  Access to menstrual products just got a little...  \n",
       "88089  Be careful what you wish for \\n\\nPictured 85 i...  \n",
       "79263  With bullying in schools workplaces homes and ...  \n",
       "89572  Coming soon We’re excited to announce that sta...  \n",
       "90010  Do people even USE libraries anymore Yes and t...  \n",
       "89372  Rainy days are perfect for curling up with a g...  \n",
       "60929  This week we lost a bright light at House of F...  \n",
       "94412  Heartbroken at the devastation of NotreDame a ...  "
      ]
     },
     "execution_count": 34,
     "metadata": {},
     "output_type": "execute_result"
    }
   ],
   "source": [
    "# posts with most favourites\n",
    "high_engagement_df.sort_values('favorite_count', ascending=False).head(10)"
   ]
  },
  {
   "cell_type": "markdown",
   "metadata": {},
   "source": [
    "## Would a different engagement strategy be useful for different types of nonprofits?\n",
    "\n",
    "All NGO's seem to demonstrate similar patters of tweeting. They mostly retweet, which does not increase engagement. Suggestion is to actively engage with other popular accounts by commenting and replying. "
   ]
  },
  {
   "cell_type": "code",
   "execution_count": 35,
   "metadata": {},
   "outputs": [],
   "source": [
    "merged_high_eng_df = pd.merge(high_engagement_df, org_profile[['screen_name','agency_catergory', 'followers_count', 'friends_count']], how='left', on='screen_name')\n",
    "# merged_high_eng_df.tail()"
   ]
  },
  {
   "cell_type": "code",
   "execution_count": 36,
   "metadata": {},
   "outputs": [
    {
     "data": {
      "text/plain": [
       "Text(0, 0.5, 'Retweet Count')"
      ]
     },
     "execution_count": 36,
     "metadata": {},
     "output_type": "execute_result"
    },
    {
     "data": {
      "image/png": "[encoded data removed]",
      "text/plain": [
       "<Figure size 1440x360 with 2 Axes>"
      ]
     },
     "metadata": {
      "needs_background": "light"
     },
     "output_type": "display_data"
    }
   ],
   "source": [
    "# Plot the favorite and retweet counts by category\n",
    "fig, (ax1, ax2) = plt.subplots(1, 2, figsize=(20, 5))\n",
    "\n",
    "merged_high_eng_df.groupby(['agency_catergory']).sum()['favorite_count'].sort_values(ascending=False).plot.bar(ax=ax1)\n",
    "merged_high_eng_df.groupby(['agency_catergory']).sum()['retweet_count'].sort_values(ascending=False).plot.bar(ax=ax2)\n",
    "\n",
    "ax1.set_title('Favorite Count by Category')\n",
    "ax2.set_title('Retweet Count by Category')\n",
    "\n",
    "ax1.set_ylabel('Favorite Count')\n",
    "ax2.set_ylabel('Retweet Count')"
   ]
  },
  {
   "cell_type": "code",
   "execution_count": 50,
   "metadata": {},
   "outputs": [
    {
     "data": {
      "text/plain": [
       "Text(0.5, 1.0, 'Tweets that are not and are retweets')"
      ]
     },
     "execution_count": 50,
     "metadata": {},
     "output_type": "execute_result"
    },
    {
     "data": {
      "image/png": "[encoded data removed]",
      "text/plain": [
       "<Figure size 720x2160 with 4 Axes>"
      ]
     },
     "metadata": {
      "needs_background": "light"
     },
     "output_type": "display_data"
    }
   ],
   "source": [
    "# Need to count True and False has_media etc for each category to understand difference in their approaches \n",
    "fig, axes = plt.subplots(4, figsize=(10, 30))\n",
    "\n",
    "merged_high_eng_df.groupby(['agency_catergory'])['has_media'].value_counts().unstack().plot.barh(stacked=True, ax=axes[0])\n",
    "merged_high_eng_df.groupby(['agency_catergory'])['is_quote'].value_counts().unstack().plot.barh(stacked=True, ax=axes[1])\n",
    "merged_high_eng_df.groupby(['agency_catergory'])['is_reply'].value_counts().unstack().plot.barh(stacked=True, ax=axes[2])\n",
    "merged_high_eng_df.groupby(['agency_catergory'])['is_retweet'].value_counts().unstack().plot.barh(stacked=True, ax=axes[3])\n",
    "\n",
    "# annotations, titles, etc\n",
    "axes[0].set_title('Tweets without and with media by category')\n",
    "axes[1].set_title('Tweets without and with quotes by category')\n",
    "axes[2].set_title('Tweets that are not and are replies by category')\n",
    "axes[3].set_title('Tweets that are not and are retweets')\n"
   ]
  },
  {
   "cell_type": "markdown",
   "metadata": {},
   "source": [
    "## Does a certain time of day, week, or month generate more engagement?\n",
    "\n",
    "* Best hours: Afternoons between 1PM and 4PM\n",
    "* Best Days: Weekdays with peaks on Wed and Thu\n",
    "* Best months: April, May, June, September, November\n"
   ]
  },
  {
   "cell_type": "code",
   "execution_count": 57,
   "metadata": {},
   "outputs": [],
   "source": [
    "# Convert date column to datetime\n",
    "merged_high_eng_df['created_at'] = pd.to_datetime(merged_high_eng_df['created_at'])"
   ]
  },
  {
   "cell_type": "code",
   "execution_count": 78,
   "metadata": {},
   "outputs": [
    {
     "data": {
      "text/plain": [
       "0        2\n",
       "1        1\n",
       "2        5\n",
       "3        5\n",
       "4        2\n",
       "        ..\n",
       "65901    2\n",
       "65902    2\n",
       "65903    2\n",
       "65904    5\n",
       "65905    1\n",
       "Name: created_at, Length: 65906, dtype: int64"
      ]
     },
     "execution_count": 78,
     "metadata": {},
     "output_type": "execute_result"
    }
   ],
   "source": [
    "merged_high_eng_df['created_at'].dt.dayofweek"
   ]
  },
  {
   "cell_type": "code",
   "execution_count": 105,
   "metadata": {},
   "outputs": [],
   "source": [
    "favorite_counts_by_day = pd.crosstab(merged_high_eng_df['created_at'].dt.weekday, merged_high_eng_df['favorite_count'])"
   ]
  },
  {
   "cell_type": "code",
   "execution_count": 107,
   "metadata": {},
   "outputs": [],
   "source": [
    "favorite_counts_by_hour = pd.crosstab(merged_high_eng_df['created_at'].dt.hour, merged_high_eng_df['favorite_count'])"
   ]
  },
  {
   "cell_type": "code",
   "execution_count": 115,
   "metadata": {},
   "outputs": [],
   "source": [
    "favorite_counts_by_month = pd.crosstab(merged_high_eng_df['created_at'].dt.month, merged_high_eng_df['favorite_count'])"
   ]
  },
  {
   "cell_type": "code",
   "execution_count": 118,
   "metadata": {},
   "outputs": [
    {
     "data": {
      "text/plain": [
       "<AxesSubplot:ylabel='created_at'>"
      ]
     },
     "execution_count": 118,
     "metadata": {},
     "output_type": "execute_result"
    },
    {
     "data": {
      "image/png": "[encoded data removed]",
      "text/plain": [
       "<Figure size 432x288 with 1 Axes>"
      ]
     },
     "metadata": {
      "needs_background": "light"
     },
     "output_type": "display_data"
    }
   ],
   "source": [
    "# Drop the column with 0 favorites and plot the sum of favorites by hour\n",
    "favorite_counts_by_hour.drop(0.0, axis=1).sum(axis=1).plot.barh()"
   ]
  },
  {
   "cell_type": "code",
   "execution_count": 112,
   "metadata": {},
   "outputs": [
    {
     "data": {
      "text/plain": [
       "<AxesSubplot:ylabel='created_at'>"
      ]
     },
     "execution_count": 112,
     "metadata": {},
     "output_type": "execute_result"
    },
    {
     "data": {
      "image/png": "[encoded data removed]",
      "text/plain": [
       "<Figure size 432x288 with 1 Axes>"
      ]
     },
     "metadata": {
      "needs_background": "light"
     },
     "output_type": "display_data"
    }
   ],
   "source": [
    "# Drop the column with 0 favorites and plot the sum favorites by weekday\n",
    "favorite_counts_by_day.drop(0.0, axis=1).sum(axis=1).plot.barh()"
   ]
  },
  {
   "cell_type": "code",
   "execution_count": 117,
   "metadata": {},
   "outputs": [
    {
     "data": {
      "text/plain": [
       "<AxesSubplot:ylabel='created_at'>"
      ]
     },
     "execution_count": 117,
     "metadata": {},
     "output_type": "execute_result"
    },
    {
     "data": {
      "image/png": "[encoded data removed]",
      "text/plain": [
       "<Figure size 432x288 with 1 Axes>"
      ]
     },
     "metadata": {
      "needs_background": "light"
     },
     "output_type": "display_data"
    }
   ],
   "source": [
    "# drop the column with 0 favorites and plot the sum of favorites by month\n",
    "favorite_counts_by_month.drop(0.0, axis=1).sum(axis=1).plot.barh()"
   ]
  }
 ],
 "metadata": {
  "kernelspec": {
   "display_name": "Python 3",
   "language": "python",
   "name": "python3"
  },
  "language_info": {
   "codemirror_mode": {
    "name": "ipython",
    "version": 3
   },
   "file_extension": ".py",
   "mimetype": "text/x-python",
   "name": "python",
   "nbconvert_exporter": "python",
   "pygments_lexer": "ipython3",
   "version": "3.7.6"
  }
 },
 "nbformat": 4,
 "nbformat_minor": 4
}
