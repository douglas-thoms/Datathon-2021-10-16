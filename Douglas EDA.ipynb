{
 "cells": [
  {
   "cell_type": "code",
   "execution_count": 16,
   "metadata": {},
   "outputs": [],
   "source": [
    "# import dependencies\n",
    "import pandas as pd\n",
    "import datetime as dt\n",
    "import numpy as np\n",
    "import matplotlib.pyplot as plt\n",
    "import seaborn as sns"
   ]
  },
  {
   "cell_type": "code",
   "execution_count": 17,
   "metadata": {},
   "outputs": [
    {
     "name": "stderr",
     "output_type": "stream",
     "text": [
      "/home/douglas/anaconda3/lib/python3.7/site-packages/IPython/core/interactiveshell.py:3063: DtypeWarning: Columns (10,11,12,13) have mixed types.Specify dtype option on import or set low_memory=False.\n",
      "  interactivity=interactivity, compiler=compiler, result=result)\n"
     ]
    }
   ],
   "source": [
    "# read csvs into DF\n",
    "\n",
    "org_profile = pd.read_csv('Data/organization_profiles.csv')\n",
    "\n",
    "tweets1 = pd.read_csv('Data/tweets_all_revised2.csv')\n",
    "\n",
    "tweets2 = pd.read_excel('Data/tweets_all_revised2.xlsx')"
   ]
  },
  {
   "cell_type": "code",
   "execution_count": 18,
   "metadata": {},
   "outputs": [
    {
     "data": {
      "text/html": [
       "<div>\n",
       "<style scoped>\n",
       "    .dataframe tbody tr th:only-of-type {\n",
       "        vertical-align: middle;\n",
       "    }\n",
       "\n",
       "    .dataframe tbody tr th {\n",
       "        vertical-align: top;\n",
       "    }\n",
       "\n",
       "    .dataframe thead th {\n",
       "        text-align: right;\n",
       "    }\n",
       "</style>\n",
       "<table border=\"1\" class=\"dataframe\">\n",
       "  <thead>\n",
       "    <tr style=\"text-align: right;\">\n",
       "      <th></th>\n",
       "      <th>Unnamed: 0</th>\n",
       "      <th>Organization Name</th>\n",
       "      <th>twitter_handle</th>\n",
       "      <th>screen_name</th>\n",
       "      <th>agency_catergory</th>\n",
       "      <th>followers_count</th>\n",
       "      <th>friends_count</th>\n",
       "      <th>location</th>\n",
       "    </tr>\n",
       "  </thead>\n",
       "  <tbody>\n",
       "    <tr>\n",
       "      <th>0</th>\n",
       "      <td>0</td>\n",
       "      <td>Adults In Motion</td>\n",
       "      <td>@AIMkitchener</td>\n",
       "      <td>AIMkitchener</td>\n",
       "      <td>Disabilities</td>\n",
       "      <td>662</td>\n",
       "      <td>800</td>\n",
       "      <td>Kitchener, Ontario</td>\n",
       "    </tr>\n",
       "    <tr>\n",
       "      <th>1</th>\n",
       "      <td>1</td>\n",
       "      <td>African Family Revival Organization</td>\n",
       "      <td>@AFROKitchener</td>\n",
       "      <td>AFROKitchener</td>\n",
       "      <td>Arts, Culture and Heritage</td>\n",
       "      <td>125</td>\n",
       "      <td>64</td>\n",
       "      <td>Kitchener, Ontario</td>\n",
       "    </tr>\n",
       "    <tr>\n",
       "      <th>2</th>\n",
       "      <td>2</td>\n",
       "      <td>Alzheimer Society of Waterloo Wellington</td>\n",
       "      <td>@alzsocww</td>\n",
       "      <td>alzsocww</td>\n",
       "      <td>Seniors</td>\n",
       "      <td>1376</td>\n",
       "      <td>432</td>\n",
       "      <td>Waterloo Wellington, Ontario</td>\n",
       "    </tr>\n",
       "    <tr>\n",
       "      <th>3</th>\n",
       "      <td>3</td>\n",
       "      <td>Big Brothers Big Sisters of Waterloo Region</td>\n",
       "      <td>@BBBSWR</td>\n",
       "      <td>BBBSWR</td>\n",
       "      <td>Children, Youth and Family</td>\n",
       "      <td>2462</td>\n",
       "      <td>1551</td>\n",
       "      <td>Waterloo Region</td>\n",
       "    </tr>\n",
       "    <tr>\n",
       "      <th>4</th>\n",
       "      <td>4</td>\n",
       "      <td>Bridges to Belonging</td>\n",
       "      <td>@BtoBelonging</td>\n",
       "      <td>BtoBelonging</td>\n",
       "      <td>Disabilities</td>\n",
       "      <td>1432</td>\n",
       "      <td>1254</td>\n",
       "      <td>Waterloo Region</td>\n",
       "    </tr>\n",
       "    <tr>\n",
       "      <th>...</th>\n",
       "      <td>...</td>\n",
       "      <td>...</td>\n",
       "      <td>...</td>\n",
       "      <td>...</td>\n",
       "      <td>...</td>\n",
       "      <td>...</td>\n",
       "      <td>...</td>\n",
       "      <td>...</td>\n",
       "    </tr>\n",
       "    <tr>\n",
       "      <th>81</th>\n",
       "      <td>81</td>\n",
       "      <td>The Museum</td>\n",
       "      <td>@THEMUSEUM</td>\n",
       "      <td>THEMUSEUM</td>\n",
       "      <td>Arts, Culture and Heritage</td>\n",
       "      <td>18095</td>\n",
       "      <td>6858</td>\n",
       "      <td>Kitchener, Ontario, Canada</td>\n",
       "    </tr>\n",
       "    <tr>\n",
       "      <th>82</th>\n",
       "      <td>82</td>\n",
       "      <td>Kitchener-Waterloo Community Foundation</td>\n",
       "      <td>@thekwcf</td>\n",
       "      <td>thekwcf</td>\n",
       "      <td>Community and Social Services</td>\n",
       "      <td>4427</td>\n",
       "      <td>782</td>\n",
       "      <td>Kitchener-Waterloo, Ontario</td>\n",
       "    </tr>\n",
       "    <tr>\n",
       "      <th>83</th>\n",
       "      <td>83</td>\n",
       "      <td>The Working Centre</td>\n",
       "      <td>@Workingcentre</td>\n",
       "      <td>Workingcentre</td>\n",
       "      <td>Community and Social Services</td>\n",
       "      <td>2905</td>\n",
       "      <td>256</td>\n",
       "      <td>Kitchener</td>\n",
       "    </tr>\n",
       "    <tr>\n",
       "      <th>84</th>\n",
       "      <td>84</td>\n",
       "      <td>WorkforceBoardofWWD</td>\n",
       "      <td>@WorkforceWWD</td>\n",
       "      <td>WorkforceWWD</td>\n",
       "      <td>Employment</td>\n",
       "      <td>441</td>\n",
       "      <td>406</td>\n",
       "      <td>Waterloo Wellington Dufferin</td>\n",
       "    </tr>\n",
       "    <tr>\n",
       "      <th>85</th>\n",
       "      <td>85</td>\n",
       "      <td>Data For Good</td>\n",
       "      <td>@dataforgoodwr</td>\n",
       "      <td>dataforgoodwr</td>\n",
       "      <td>Education Institution</td>\n",
       "      <td>192</td>\n",
       "      <td>21</td>\n",
       "      <td>Waterloo</td>\n",
       "    </tr>\n",
       "  </tbody>\n",
       "</table>\n",
       "<p>86 rows × 8 columns</p>\n",
       "</div>"
      ],
      "text/plain": [
       "    Unnamed: 0                            Organization Name  twitter_handle  \\\n",
       "0            0                             Adults In Motion   @AIMkitchener   \n",
       "1            1          African Family Revival Organization  @AFROKitchener   \n",
       "2            2     Alzheimer Society of Waterloo Wellington       @alzsocww   \n",
       "3            3  Big Brothers Big Sisters of Waterloo Region         @BBBSWR   \n",
       "4            4                         Bridges to Belonging   @BtoBelonging   \n",
       "..         ...                                          ...             ...   \n",
       "81          81                                   The Museum      @THEMUSEUM   \n",
       "82          82      Kitchener-Waterloo Community Foundation        @thekwcf   \n",
       "83          83                           The Working Centre  @Workingcentre   \n",
       "84          84                          WorkforceBoardofWWD   @WorkforceWWD   \n",
       "85          85                                Data For Good  @dataforgoodwr   \n",
       "\n",
       "      screen_name               agency_catergory  followers_count  \\\n",
       "0    AIMkitchener                   Disabilities              662   \n",
       "1   AFROKitchener     Arts, Culture and Heritage              125   \n",
       "2        alzsocww                        Seniors             1376   \n",
       "3          BBBSWR     Children, Youth and Family             2462   \n",
       "4    BtoBelonging                   Disabilities             1432   \n",
       "..            ...                            ...              ...   \n",
       "81      THEMUSEUM     Arts, Culture and Heritage            18095   \n",
       "82        thekwcf  Community and Social Services             4427   \n",
       "83  Workingcentre  Community and Social Services             2905   \n",
       "84   WorkforceWWD                     Employment              441   \n",
       "85  dataforgoodwr          Education Institution              192   \n",
       "\n",
       "    friends_count                      location  \n",
       "0             800            Kitchener, Ontario  \n",
       "1              64            Kitchener, Ontario  \n",
       "2             432  Waterloo Wellington, Ontario  \n",
       "3            1551               Waterloo Region  \n",
       "4            1254               Waterloo Region  \n",
       "..            ...                           ...  \n",
       "81           6858    Kitchener, Ontario, Canada  \n",
       "82            782   Kitchener-Waterloo, Ontario  \n",
       "83            256                     Kitchener  \n",
       "84            406  Waterloo Wellington Dufferin  \n",
       "85             21                      Waterloo  \n",
       "\n",
       "[86 rows x 8 columns]"
      ]
     },
     "execution_count": 18,
     "metadata": {},
     "output_type": "execute_result"
    }
   ],
   "source": [
    "org_profile"
   ]
  },
  {
   "cell_type": "code",
   "execution_count": 19,
   "metadata": {},
   "outputs": [
    {
     "data": {
      "text/html": [
       "<div>\n",
       "<style scoped>\n",
       "    .dataframe tbody tr th:only-of-type {\n",
       "        vertical-align: middle;\n",
       "    }\n",
       "\n",
       "    .dataframe tbody tr th {\n",
       "        vertical-align: top;\n",
       "    }\n",
       "\n",
       "    .dataframe thead th {\n",
       "        text-align: right;\n",
       "    }\n",
       "</style>\n",
       "<table border=\"1\" class=\"dataframe\">\n",
       "  <thead>\n",
       "    <tr style=\"text-align: right;\">\n",
       "      <th></th>\n",
       "      <th>screen_name</th>\n",
       "      <th>favorite_count</th>\n",
       "      <th>retweet_count</th>\n",
       "      <th>agency_catergory</th>\n",
       "      <th>followers_count</th>\n",
       "      <th>friends_count</th>\n",
       "    </tr>\n",
       "  </thead>\n",
       "  <tbody>\n",
       "    <tr>\n",
       "      <th>0</th>\n",
       "      <td>AIMkitchener</td>\n",
       "      <td>2.0</td>\n",
       "      <td>0.0</td>\n",
       "      <td>Disabilities</td>\n",
       "      <td>662</td>\n",
       "      <td>800</td>\n",
       "    </tr>\n",
       "    <tr>\n",
       "      <th>1</th>\n",
       "      <td>AIMkitchener</td>\n",
       "      <td>1.0</td>\n",
       "      <td>0.0</td>\n",
       "      <td>Disabilities</td>\n",
       "      <td>662</td>\n",
       "      <td>800</td>\n",
       "    </tr>\n",
       "    <tr>\n",
       "      <th>2</th>\n",
       "      <td>AIMkitchener</td>\n",
       "      <td>1.0</td>\n",
       "      <td>0.0</td>\n",
       "      <td>Disabilities</td>\n",
       "      <td>662</td>\n",
       "      <td>800</td>\n",
       "    </tr>\n",
       "    <tr>\n",
       "      <th>3</th>\n",
       "      <td>AIMkitchener</td>\n",
       "      <td>1.0</td>\n",
       "      <td>0.0</td>\n",
       "      <td>Disabilities</td>\n",
       "      <td>662</td>\n",
       "      <td>800</td>\n",
       "    </tr>\n",
       "    <tr>\n",
       "      <th>4</th>\n",
       "      <td>AIMkitchener</td>\n",
       "      <td>1.0</td>\n",
       "      <td>0.0</td>\n",
       "      <td>Disabilities</td>\n",
       "      <td>662</td>\n",
       "      <td>800</td>\n",
       "    </tr>\n",
       "  </tbody>\n",
       "</table>\n",
       "</div>"
      ],
      "text/plain": [
       "    screen_name  favorite_count  retweet_count agency_catergory  \\\n",
       "0  AIMkitchener             2.0            0.0     Disabilities   \n",
       "1  AIMkitchener             1.0            0.0     Disabilities   \n",
       "2  AIMkitchener             1.0            0.0     Disabilities   \n",
       "3  AIMkitchener             1.0            0.0     Disabilities   \n",
       "4  AIMkitchener             1.0            0.0     Disabilities   \n",
       "\n",
       "   followers_count  friends_count  \n",
       "0              662            800  \n",
       "1              662            800  \n",
       "2              662            800  \n",
       "3              662            800  \n",
       "4              662            800  "
      ]
     },
     "execution_count": 19,
     "metadata": {},
     "output_type": "execute_result"
    }
   ],
   "source": [
    "## find average tweets per industry\n",
    "## join tweets and organization\n",
    "##on tweets all, aggregate all tweets per type of organization\n",
    "\n",
    "organization_combined = pd.merge(tweets1, org_profile, how='left', on='screen_name')\n",
    "organization_combined = organization_combined[['screen_name','favorite_count','retweet_count', 'agency_catergory','followers_count','friends_count']]\n",
    "organization_combined.head()\n"
   ]
  },
  {
   "cell_type": "code",
   "execution_count": 20,
   "metadata": {},
   "outputs": [
    {
     "data": {
      "text/html": [
       "<div>\n",
       "<style scoped>\n",
       "    .dataframe tbody tr th:only-of-type {\n",
       "        vertical-align: middle;\n",
       "    }\n",
       "\n",
       "    .dataframe tbody tr th {\n",
       "        vertical-align: top;\n",
       "    }\n",
       "\n",
       "    .dataframe thead th {\n",
       "        text-align: right;\n",
       "    }\n",
       "</style>\n",
       "<table border=\"1\" class=\"dataframe\">\n",
       "  <thead>\n",
       "    <tr style=\"text-align: right;\">\n",
       "      <th></th>\n",
       "      <th>agency_catergory</th>\n",
       "      <th>Organization Name</th>\n",
       "    </tr>\n",
       "  </thead>\n",
       "  <tbody>\n",
       "    <tr>\n",
       "      <th>0</th>\n",
       "      <td>Animals</td>\n",
       "      <td>2</td>\n",
       "    </tr>\n",
       "    <tr>\n",
       "      <th>1</th>\n",
       "      <td>Arts, Culture and Heritage</td>\n",
       "      <td>11</td>\n",
       "    </tr>\n",
       "    <tr>\n",
       "      <th>2</th>\n",
       "      <td>Children, Youth and Family</td>\n",
       "      <td>10</td>\n",
       "    </tr>\n",
       "    <tr>\n",
       "      <th>3</th>\n",
       "      <td>Community and Social Services</td>\n",
       "      <td>21</td>\n",
       "    </tr>\n",
       "    <tr>\n",
       "      <th>4</th>\n",
       "      <td>Criminal Justice and Civil Rights</td>\n",
       "      <td>2</td>\n",
       "    </tr>\n",
       "  </tbody>\n",
       "</table>\n",
       "</div>"
      ],
      "text/plain": [
       "                    agency_catergory  Organization Name\n",
       "0                            Animals                  2\n",
       "1         Arts, Culture and Heritage                 11\n",
       "2         Children, Youth and Family                 10\n",
       "3      Community and Social Services                 21\n",
       "4  Criminal Justice and Civil Rights                  2"
      ]
     },
     "execution_count": 20,
     "metadata": {},
     "output_type": "execute_result"
    }
   ],
   "source": [
    "sector_number = org_profile.groupby('agency_catergory', as_index=False)['Organization Name'].count()\n",
    "sector_number.head()"
   ]
  },
  {
   "cell_type": "code",
   "execution_count": 21,
   "metadata": {},
   "outputs": [
    {
     "data": {
      "text/html": [
       "<div>\n",
       "<style scoped>\n",
       "    .dataframe tbody tr th:only-of-type {\n",
       "        vertical-align: middle;\n",
       "    }\n",
       "\n",
       "    .dataframe tbody tr th {\n",
       "        vertical-align: top;\n",
       "    }\n",
       "\n",
       "    .dataframe thead th {\n",
       "        text-align: right;\n",
       "    }\n",
       "</style>\n",
       "<table border=\"1\" class=\"dataframe\">\n",
       "  <thead>\n",
       "    <tr style=\"text-align: right;\">\n",
       "      <th></th>\n",
       "      <th>agency_catergory</th>\n",
       "      <th>favorite_count</th>\n",
       "      <th>retweet_count</th>\n",
       "      <th>followers_count</th>\n",
       "      <th>friends_count</th>\n",
       "    </tr>\n",
       "  </thead>\n",
       "  <tbody>\n",
       "    <tr>\n",
       "      <th>0</th>\n",
       "      <td>Animals</td>\n",
       "      <td>11934.0</td>\n",
       "      <td>4853.0</td>\n",
       "      <td>16298283</td>\n",
       "      <td>1528144</td>\n",
       "    </tr>\n",
       "    <tr>\n",
       "      <th>1</th>\n",
       "      <td>Arts, Culture and Heritage</td>\n",
       "      <td>23674.0</td>\n",
       "      <td>2039878.0</td>\n",
       "      <td>131267994</td>\n",
       "      <td>48739200</td>\n",
       "    </tr>\n",
       "    <tr>\n",
       "      <th>2</th>\n",
       "      <td>Children, Youth and Family</td>\n",
       "      <td>43131.0</td>\n",
       "      <td>477596.0</td>\n",
       "      <td>66230913</td>\n",
       "      <td>37771144</td>\n",
       "    </tr>\n",
       "    <tr>\n",
       "      <th>3</th>\n",
       "      <td>Community and Social Services</td>\n",
       "      <td>86672.0</td>\n",
       "      <td>4145443.0</td>\n",
       "      <td>166018118</td>\n",
       "      <td>52742760</td>\n",
       "    </tr>\n",
       "    <tr>\n",
       "      <th>4</th>\n",
       "      <td>Criminal Justice and Civil Rights</td>\n",
       "      <td>6614.0</td>\n",
       "      <td>2305325.0</td>\n",
       "      <td>29686425</td>\n",
       "      <td>13558965</td>\n",
       "    </tr>\n",
       "  </tbody>\n",
       "</table>\n",
       "</div>"
      ],
      "text/plain": [
       "                    agency_catergory  favorite_count  retweet_count  \\\n",
       "0                            Animals         11934.0         4853.0   \n",
       "1         Arts, Culture and Heritage         23674.0      2039878.0   \n",
       "2         Children, Youth and Family         43131.0       477596.0   \n",
       "3      Community and Social Services         86672.0      4145443.0   \n",
       "4  Criminal Justice and Civil Rights          6614.0      2305325.0   \n",
       "\n",
       "   followers_count  friends_count  \n",
       "0         16298283        1528144  \n",
       "1        131267994       48739200  \n",
       "2         66230913       37771144  \n",
       "3        166018118       52742760  \n",
       "4         29686425       13558965  "
      ]
     },
     "execution_count": 21,
     "metadata": {},
     "output_type": "execute_result"
    }
   ],
   "source": [
    "organization_combined = organization_combined.groupby('agency_catergory', as_index=False).sum()\n",
    "organization_combined.head()"
   ]
  },
  {
   "cell_type": "code",
   "execution_count": 22,
   "metadata": {},
   "outputs": [
    {
     "data": {
      "text/html": [
       "<div>\n",
       "<style scoped>\n",
       "    .dataframe tbody tr th:only-of-type {\n",
       "        vertical-align: middle;\n",
       "    }\n",
       "\n",
       "    .dataframe tbody tr th {\n",
       "        vertical-align: top;\n",
       "    }\n",
       "\n",
       "    .dataframe thead th {\n",
       "        text-align: right;\n",
       "    }\n",
       "</style>\n",
       "<table border=\"1\" class=\"dataframe\">\n",
       "  <thead>\n",
       "    <tr style=\"text-align: right;\">\n",
       "      <th></th>\n",
       "      <th>agency_catergory</th>\n",
       "      <th>favorite_count</th>\n",
       "      <th>retweet_count</th>\n",
       "      <th>followers_count</th>\n",
       "      <th>friends_count</th>\n",
       "      <th>Organization Name</th>\n",
       "    </tr>\n",
       "  </thead>\n",
       "  <tbody>\n",
       "    <tr>\n",
       "      <th>0</th>\n",
       "      <td>Animals</td>\n",
       "      <td>11934.0</td>\n",
       "      <td>4853.0</td>\n",
       "      <td>16298283</td>\n",
       "      <td>1528144</td>\n",
       "      <td>2</td>\n",
       "    </tr>\n",
       "    <tr>\n",
       "      <th>1</th>\n",
       "      <td>Arts, Culture and Heritage</td>\n",
       "      <td>23674.0</td>\n",
       "      <td>2039878.0</td>\n",
       "      <td>131267994</td>\n",
       "      <td>48739200</td>\n",
       "      <td>11</td>\n",
       "    </tr>\n",
       "    <tr>\n",
       "      <th>2</th>\n",
       "      <td>Children, Youth and Family</td>\n",
       "      <td>43131.0</td>\n",
       "      <td>477596.0</td>\n",
       "      <td>66230913</td>\n",
       "      <td>37771144</td>\n",
       "      <td>10</td>\n",
       "    </tr>\n",
       "    <tr>\n",
       "      <th>3</th>\n",
       "      <td>Community and Social Services</td>\n",
       "      <td>86672.0</td>\n",
       "      <td>4145443.0</td>\n",
       "      <td>166018118</td>\n",
       "      <td>52742760</td>\n",
       "      <td>21</td>\n",
       "    </tr>\n",
       "    <tr>\n",
       "      <th>4</th>\n",
       "      <td>Criminal Justice and Civil Rights</td>\n",
       "      <td>6614.0</td>\n",
       "      <td>2305325.0</td>\n",
       "      <td>29686425</td>\n",
       "      <td>13558965</td>\n",
       "      <td>2</td>\n",
       "    </tr>\n",
       "  </tbody>\n",
       "</table>\n",
       "</div>"
      ],
      "text/plain": [
       "                    agency_catergory  favorite_count  retweet_count  \\\n",
       "0                            Animals         11934.0         4853.0   \n",
       "1         Arts, Culture and Heritage         23674.0      2039878.0   \n",
       "2         Children, Youth and Family         43131.0       477596.0   \n",
       "3      Community and Social Services         86672.0      4145443.0   \n",
       "4  Criminal Justice and Civil Rights          6614.0      2305325.0   \n",
       "\n",
       "   followers_count  friends_count  Organization Name  \n",
       "0         16298283        1528144                  2  \n",
       "1        131267994       48739200                 11  \n",
       "2         66230913       37771144                 10  \n",
       "3        166018118       52742760                 21  \n",
       "4         29686425       13558965                  2  "
      ]
     },
     "execution_count": 22,
     "metadata": {},
     "output_type": "execute_result"
    }
   ],
   "source": [
    "organization_combined = pd.merge(organization_combined, sector_number, how='left', on='agency_catergory')\n",
    "organization_combined.head()"
   ]
  },
  {
   "cell_type": "code",
   "execution_count": 23,
   "metadata": {},
   "outputs": [
    {
     "data": {
      "text/html": [
       "<div>\n",
       "<style scoped>\n",
       "    .dataframe tbody tr th:only-of-type {\n",
       "        vertical-align: middle;\n",
       "    }\n",
       "\n",
       "    .dataframe tbody tr th {\n",
       "        vertical-align: top;\n",
       "    }\n",
       "\n",
       "    .dataframe thead th {\n",
       "        text-align: right;\n",
       "    }\n",
       "</style>\n",
       "<table border=\"1\" class=\"dataframe\">\n",
       "  <thead>\n",
       "    <tr style=\"text-align: right;\">\n",
       "      <th></th>\n",
       "      <th>agency_catergory</th>\n",
       "      <th>favorite_count_per_org</th>\n",
       "      <th>retweet_per_org</th>\n",
       "      <th>follower_per_org</th>\n",
       "      <th>friends_per_org</th>\n",
       "    </tr>\n",
       "  </thead>\n",
       "  <tbody>\n",
       "    <tr>\n",
       "      <th>0</th>\n",
       "      <td>Animals</td>\n",
       "      <td>5967.000000</td>\n",
       "      <td>2.426500e+03</td>\n",
       "      <td>8.149142e+06</td>\n",
       "      <td>7.640720e+05</td>\n",
       "    </tr>\n",
       "    <tr>\n",
       "      <th>1</th>\n",
       "      <td>Arts, Culture and Heritage</td>\n",
       "      <td>2152.181818</td>\n",
       "      <td>1.854435e+05</td>\n",
       "      <td>1.193345e+07</td>\n",
       "      <td>4.430836e+06</td>\n",
       "    </tr>\n",
       "    <tr>\n",
       "      <th>2</th>\n",
       "      <td>Children, Youth and Family</td>\n",
       "      <td>4313.100000</td>\n",
       "      <td>4.775960e+04</td>\n",
       "      <td>6.623091e+06</td>\n",
       "      <td>3.777114e+06</td>\n",
       "    </tr>\n",
       "    <tr>\n",
       "      <th>3</th>\n",
       "      <td>Community and Social Services</td>\n",
       "      <td>4127.238095</td>\n",
       "      <td>1.974020e+05</td>\n",
       "      <td>7.905625e+06</td>\n",
       "      <td>2.511560e+06</td>\n",
       "    </tr>\n",
       "    <tr>\n",
       "      <th>4</th>\n",
       "      <td>Criminal Justice and Civil Rights</td>\n",
       "      <td>3307.000000</td>\n",
       "      <td>1.152662e+06</td>\n",
       "      <td>1.484321e+07</td>\n",
       "      <td>6.779482e+06</td>\n",
       "    </tr>\n",
       "    <tr>\n",
       "      <th>5</th>\n",
       "      <td>Disabilities</td>\n",
       "      <td>3017.100000</td>\n",
       "      <td>2.494635e+05</td>\n",
       "      <td>4.352318e+06</td>\n",
       "      <td>2.317588e+06</td>\n",
       "    </tr>\n",
       "    <tr>\n",
       "      <th>6</th>\n",
       "      <td>Education Institution</td>\n",
       "      <td>1986.000000</td>\n",
       "      <td>3.372000e+03</td>\n",
       "      <td>1.407182e+06</td>\n",
       "      <td>1.442919e+06</td>\n",
       "    </tr>\n",
       "    <tr>\n",
       "      <th>7</th>\n",
       "      <td>Employment</td>\n",
       "      <td>4523.000000</td>\n",
       "      <td>7.188500e+03</td>\n",
       "      <td>4.059742e+07</td>\n",
       "      <td>1.037007e+06</td>\n",
       "    </tr>\n",
       "    <tr>\n",
       "      <th>8</th>\n",
       "      <td>Environment</td>\n",
       "      <td>1698.000000</td>\n",
       "      <td>1.666100e+04</td>\n",
       "      <td>4.621430e+06</td>\n",
       "      <td>1.423317e+06</td>\n",
       "    </tr>\n",
       "    <tr>\n",
       "      <th>9</th>\n",
       "      <td>Grant-Giving Foundation</td>\n",
       "      <td>1644.000000</td>\n",
       "      <td>4.028850e+04</td>\n",
       "      <td>3.091726e+06</td>\n",
       "      <td>2.873278e+06</td>\n",
       "    </tr>\n",
       "    <tr>\n",
       "      <th>10</th>\n",
       "      <td>Health and Wellness</td>\n",
       "      <td>5999.250000</td>\n",
       "      <td>2.340855e+05</td>\n",
       "      <td>6.207922e+06</td>\n",
       "      <td>5.974792e+06</td>\n",
       "    </tr>\n",
       "    <tr>\n",
       "      <th>11</th>\n",
       "      <td>Immigration and Settlement</td>\n",
       "      <td>3611.666667</td>\n",
       "      <td>1.796493e+05</td>\n",
       "      <td>3.475167e+06</td>\n",
       "      <td>1.526973e+06</td>\n",
       "    </tr>\n",
       "    <tr>\n",
       "      <th>12</th>\n",
       "      <td>LGBTQ</td>\n",
       "      <td>3130.000000</td>\n",
       "      <td>1.060240e+05</td>\n",
       "      <td>2.436630e+06</td>\n",
       "      <td>1.602629e+06</td>\n",
       "    </tr>\n",
       "    <tr>\n",
       "      <th>13</th>\n",
       "      <td>Library and Research</td>\n",
       "      <td>12135.500000</td>\n",
       "      <td>3.313300e+04</td>\n",
       "      <td>2.749772e+07</td>\n",
       "      <td>6.876710e+06</td>\n",
       "    </tr>\n",
       "    <tr>\n",
       "      <th>14</th>\n",
       "      <td>Literacy and Skills Development</td>\n",
       "      <td>4304.500000</td>\n",
       "      <td>3.985200e+04</td>\n",
       "      <td>4.179204e+06</td>\n",
       "      <td>3.178422e+06</td>\n",
       "    </tr>\n",
       "    <tr>\n",
       "      <th>15</th>\n",
       "      <td>Seniors</td>\n",
       "      <td>3427.500000</td>\n",
       "      <td>9.090500e+03</td>\n",
       "      <td>4.722856e+06</td>\n",
       "      <td>3.803492e+06</td>\n",
       "    </tr>\n",
       "    <tr>\n",
       "      <th>16</th>\n",
       "      <td>Sports, Recreation and Leisure</td>\n",
       "      <td>2404.142857</td>\n",
       "      <td>2.833693e+05</td>\n",
       "      <td>1.384124e+06</td>\n",
       "      <td>8.403949e+05</td>\n",
       "    </tr>\n",
       "  </tbody>\n",
       "</table>\n",
       "</div>"
      ],
      "text/plain": [
       "                     agency_catergory  favorite_count_per_org  \\\n",
       "0                             Animals             5967.000000   \n",
       "1          Arts, Culture and Heritage             2152.181818   \n",
       "2          Children, Youth and Family             4313.100000   \n",
       "3       Community and Social Services             4127.238095   \n",
       "4   Criminal Justice and Civil Rights             3307.000000   \n",
       "5                        Disabilities             3017.100000   \n",
       "6               Education Institution             1986.000000   \n",
       "7                          Employment             4523.000000   \n",
       "8                         Environment             1698.000000   \n",
       "9             Grant-Giving Foundation             1644.000000   \n",
       "10                Health and Wellness             5999.250000   \n",
       "11         Immigration and Settlement             3611.666667   \n",
       "12                              LGBTQ             3130.000000   \n",
       "13               Library and Research            12135.500000   \n",
       "14    Literacy and Skills Development             4304.500000   \n",
       "15                            Seniors             3427.500000   \n",
       "16     Sports, Recreation and Leisure             2404.142857   \n",
       "\n",
       "    retweet_per_org  follower_per_org  friends_per_org  \n",
       "0      2.426500e+03      8.149142e+06     7.640720e+05  \n",
       "1      1.854435e+05      1.193345e+07     4.430836e+06  \n",
       "2      4.775960e+04      6.623091e+06     3.777114e+06  \n",
       "3      1.974020e+05      7.905625e+06     2.511560e+06  \n",
       "4      1.152662e+06      1.484321e+07     6.779482e+06  \n",
       "5      2.494635e+05      4.352318e+06     2.317588e+06  \n",
       "6      3.372000e+03      1.407182e+06     1.442919e+06  \n",
       "7      7.188500e+03      4.059742e+07     1.037007e+06  \n",
       "8      1.666100e+04      4.621430e+06     1.423317e+06  \n",
       "9      4.028850e+04      3.091726e+06     2.873278e+06  \n",
       "10     2.340855e+05      6.207922e+06     5.974792e+06  \n",
       "11     1.796493e+05      3.475167e+06     1.526973e+06  \n",
       "12     1.060240e+05      2.436630e+06     1.602629e+06  \n",
       "13     3.313300e+04      2.749772e+07     6.876710e+06  \n",
       "14     3.985200e+04      4.179204e+06     3.178422e+06  \n",
       "15     9.090500e+03      4.722856e+06     3.803492e+06  \n",
       "16     2.833693e+05      1.384124e+06     8.403949e+05  "
      ]
     },
     "execution_count": 23,
     "metadata": {},
     "output_type": "execute_result"
    }
   ],
   "source": [
    "organization_combined['favorite_count_per_org'] = organization_combined['favorite_count'] / organization_combined['Organization Name']\n",
    "organization_combined['retweet_per_org'] = organization_combined['retweet_count'] / organization_combined['Organization Name']\n",
    "organization_combined['follower_per_org'] = organization_combined['followers_count'] / organization_combined['Organization Name']\n",
    "organization_combined['friends_per_org'] = organization_combined['friends_count'] / organization_combined['Organization Name']\n",
    "organization_combined = organization_combined[['agency_catergory','favorite_count_per_org', 'retweet_per_org', 'follower_per_org','friends_per_org']] \n",
    "organization_combined"
   ]
  },
  {
   "cell_type": "code",
   "execution_count": 24,
   "metadata": {},
   "outputs": [
    {
     "data": {
      "text/plain": [
       "(array([ 0,  1,  2,  3,  4,  5,  6,  7,  8,  9, 10, 11, 12, 13, 14, 15, 16]),\n",
       " <a list of 17 Text xticklabel objects>)"
      ]
     },
     "execution_count": 24,
     "metadata": {},
     "output_type": "execute_result"
    },
    {
     "data": {
      "text/plain": [
       "<Figure size 720x360 with 0 Axes>"
      ]
     },
     "metadata": {},
     "output_type": "display_data"
    },
    {
     "data": {
      "image/png": "[encoded data removed]",
      "text/plain": [
       "<Figure size 360x360 with 1 Axes>"
      ]
     },
     "metadata": {
      "needs_background": "light"
     },
     "output_type": "display_data"
    }
   ],
   "source": [
    "plt.figure(figsize=(10,5))\n",
    "chart = sns.catplot(x=\"agency_catergory\", y=\"favorite_count_per_org\", data=organization_combined)\n",
    "\n",
    "plt.xticks(\n",
    "    rotation=45, \n",
    "    horizontalalignment='right',\n",
    "    fontweight='light',\n",
    "    fontsize='large'  \n",
    ")"
   ]
  },
  {
   "cell_type": "code",
   "execution_count": 25,
   "metadata": {},
   "outputs": [
    {
     "data": {
      "text/plain": [
       "(array([ 0,  1,  2,  3,  4,  5,  6,  7,  8,  9, 10, 11, 12, 13, 14, 15, 16]),\n",
       " <a list of 17 Text xticklabel objects>)"
      ]
     },
     "execution_count": 25,
     "metadata": {},
     "output_type": "execute_result"
    },
    {
     "data": {
      "text/plain": [
       "<Figure size 720x360 with 0 Axes>"
      ]
     },
     "metadata": {},
     "output_type": "display_data"
    },
    {
     "data": {
      "image/png": "[encoded data removed]",
      "text/plain": [
       "<Figure size 360x360 with 1 Axes>"
      ]
     },
     "metadata": {
      "needs_background": "light"
     },
     "output_type": "display_data"
    }
   ],
   "source": [
    "plt.figure(figsize=(10,5))\n",
    "chart = sns.catplot(x=\"agency_catergory\", y=\"retweet_per_org\", data=organization_combined)\n",
    "\n",
    "plt.xticks(\n",
    "    rotation=45, \n",
    "    horizontalalignment='right',\n",
    "    fontweight='light',\n",
    "    fontsize='large'  \n",
    ")"
   ]
  },
  {
   "cell_type": "code",
   "execution_count": 26,
   "metadata": {},
   "outputs": [
    {
     "data": {
      "text/plain": [
       "(array([ 0,  1,  2,  3,  4,  5,  6,  7,  8,  9, 10, 11, 12, 13, 14, 15, 16]),\n",
       " <a list of 17 Text xticklabel objects>)"
      ]
     },
     "execution_count": 26,
     "metadata": {},
     "output_type": "execute_result"
    },
    {
     "data": {
      "text/plain": [
       "<Figure size 720x360 with 0 Axes>"
      ]
     },
     "metadata": {},
     "output_type": "display_data"
    },
    {
     "data": {
      "image/png": "[encoded data removed]",
      "text/plain": [
       "<Figure size 360x360 with 1 Axes>"
      ]
     },
     "metadata": {
      "needs_background": "light"
     },
     "output_type": "display_data"
    }
   ],
   "source": [
    "plt.figure(figsize=(10,5))\n",
    "chart = sns.catplot(x=\"agency_catergory\", y=\"follower_per_org\", data=organization_combined)\n",
    "\n",
    "plt.xticks(\n",
    "    rotation=45, \n",
    "    horizontalalignment='right',\n",
    "    fontweight='light',\n",
    "    fontsize='large'  \n",
    ")"
   ]
  },
  {
   "cell_type": "code",
   "execution_count": 27,
   "metadata": {},
   "outputs": [
    {
     "data": {
      "text/plain": [
       "(array([ 0,  1,  2,  3,  4,  5,  6,  7,  8,  9, 10, 11, 12, 13, 14, 15, 16]),\n",
       " <a list of 17 Text xticklabel objects>)"
      ]
     },
     "execution_count": 27,
     "metadata": {},
     "output_type": "execute_result"
    },
    {
     "data": {
      "text/plain": [
       "<Figure size 720x360 with 0 Axes>"
      ]
     },
     "metadata": {},
     "output_type": "display_data"
    },
    {
     "data": {
      "image/png": "[encoded data removed]",
      "text/plain": [
       "<Figure size 360x360 with 1 Axes>"
      ]
     },
     "metadata": {
      "needs_background": "light"
     },
     "output_type": "display_data"
    }
   ],
   "source": [
    "plt.figure(figsize=(10,5))\n",
    "chart = sns.catplot(x=\"agency_catergory\", y=\"friends_per_org\", data=organization_combined)\n",
    "\n",
    "plt.xticks(\n",
    "    rotation=45, \n",
    "    horizontalalignment='right',\n",
    "    fontweight='light',\n",
    "    fontsize='large'  \n",
    ")"
   ]
  },
  {
   "cell_type": "code",
   "execution_count": 30,
   "metadata": {},
   "outputs": [],
   "source": [
    "df_tweets1 = tweets1"
   ]
  },
  {
   "cell_type": "code",
   "execution_count": 31,
   "metadata": {},
   "outputs": [
    {
     "data": {
      "text/html": [
       "<div>\n",
       "<style scoped>\n",
       "    .dataframe tbody tr th:only-of-type {\n",
       "        vertical-align: middle;\n",
       "    }\n",
       "\n",
       "    .dataframe tbody tr th {\n",
       "        vertical-align: top;\n",
       "    }\n",
       "\n",
       "    .dataframe thead th {\n",
       "        text-align: right;\n",
       "    }\n",
       "</style>\n",
       "<table border=\"1\" class=\"dataframe\">\n",
       "  <thead>\n",
       "    <tr style=\"text-align: right;\">\n",
       "      <th></th>\n",
       "      <th>tweet_id</th>\n",
       "      <th>user_id</th>\n",
       "      <th>created_at</th>\n",
       "      <th>screen_name</th>\n",
       "      <th>text</th>\n",
       "      <th>urls</th>\n",
       "      <th>favorite_count</th>\n",
       "      <th>retweet_count</th>\n",
       "      <th>URL</th>\n",
       "      <th>hashtags</th>\n",
       "      <th>has_media</th>\n",
       "      <th>is_quote</th>\n",
       "      <th>is_reply</th>\n",
       "      <th>is_retweet</th>\n",
       "      <th>Organization Name</th>\n",
       "      <th>text_clean</th>\n",
       "      <th>hashashtag</th>\n",
       "    </tr>\n",
       "  </thead>\n",
       "  <tbody>\n",
       "    <tr>\n",
       "      <th>0</th>\n",
       "      <td>0</td>\n",
       "      <td>885747516</td>\n",
       "      <td>2021-02-26 17:59:51</td>\n",
       "      <td>AIMkitchener</td>\n",
       "      <td>🍅 What will your garden look like this year? 🪴...</td>\n",
       "      <td>['https://t.co/g1djW5JMVT']</td>\n",
       "      <td>2.0</td>\n",
       "      <td>0.0</td>\n",
       "      <td>https://twitter.com/i/web/status/1365360946378...</td>\n",
       "      <td>[]</td>\n",
       "      <td>False</td>\n",
       "      <td>False</td>\n",
       "      <td>False</td>\n",
       "      <td>False</td>\n",
       "      <td>Adults In Motion</td>\n",
       "      <td>What will your garden look like this year  \\n...</td>\n",
       "      <td>False</td>\n",
       "    </tr>\n",
       "    <tr>\n",
       "      <th>1</th>\n",
       "      <td>1</td>\n",
       "      <td>885747516</td>\n",
       "      <td>2021-02-24 19:34:45</td>\n",
       "      <td>AIMkitchener</td>\n",
       "      <td>Virtual connecting is not the next big thing, ...</td>\n",
       "      <td>['https://t.co/b1Ts6V60hS']</td>\n",
       "      <td>1.0</td>\n",
       "      <td>0.0</td>\n",
       "      <td>https://twitter.com/i/web/status/1364660054046...</td>\n",
       "      <td>[]</td>\n",
       "      <td>False</td>\n",
       "      <td>False</td>\n",
       "      <td>False</td>\n",
       "      <td>False</td>\n",
       "      <td>Adults In Motion</td>\n",
       "      <td>Virtual connecting is not the next big thing i...</td>\n",
       "      <td>False</td>\n",
       "    </tr>\n",
       "    <tr>\n",
       "      <th>2</th>\n",
       "      <td>2</td>\n",
       "      <td>885747516</td>\n",
       "      <td>2021-02-15 18:14:22</td>\n",
       "      <td>AIMkitchener</td>\n",
       "      <td>“Treat your friends like family and your famil...</td>\n",
       "      <td>['https://t.co/jpFQ3K5oSK']</td>\n",
       "      <td>1.0</td>\n",
       "      <td>0.0</td>\n",
       "      <td>https://twitter.com/i/web/status/1361378331254...</td>\n",
       "      <td>[]</td>\n",
       "      <td>False</td>\n",
       "      <td>False</td>\n",
       "      <td>False</td>\n",
       "      <td>False</td>\n",
       "      <td>Adults In Motion</td>\n",
       "      <td>“Treat your friends like family and your famil...</td>\n",
       "      <td>False</td>\n",
       "    </tr>\n",
       "    <tr>\n",
       "      <th>3</th>\n",
       "      <td>3</td>\n",
       "      <td>885747516</td>\n",
       "      <td>2021-02-01 17:54:56</td>\n",
       "      <td>AIMkitchener</td>\n",
       "      <td>🤗 Sending virtual Love Squeezes to anyone who ...</td>\n",
       "      <td>['https://t.co/zk4ZZm0cZa']</td>\n",
       "      <td>1.0</td>\n",
       "      <td>0.0</td>\n",
       "      <td>https://twitter.com/i/web/status/1356300010737...</td>\n",
       "      <td>['VirtualHug', 'SpreadKindness', 'SpreadLove']</td>\n",
       "      <td>False</td>\n",
       "      <td>False</td>\n",
       "      <td>False</td>\n",
       "      <td>False</td>\n",
       "      <td>Adults In Motion</td>\n",
       "      <td>Sending virtual Love Squeezes to anyone who n...</td>\n",
       "      <td>True</td>\n",
       "    </tr>\n",
       "    <tr>\n",
       "      <th>4</th>\n",
       "      <td>4</td>\n",
       "      <td>885747516</td>\n",
       "      <td>2021-01-15 18:40:36</td>\n",
       "      <td>AIMkitchener</td>\n",
       "      <td>How are YOU getting active and outdoors?! Tell...</td>\n",
       "      <td>['https://t.co/eZB1kEPYUz']</td>\n",
       "      <td>1.0</td>\n",
       "      <td>0.0</td>\n",
       "      <td>NaN</td>\n",
       "      <td>[]</td>\n",
       "      <td>True</td>\n",
       "      <td>False</td>\n",
       "      <td>False</td>\n",
       "      <td>False</td>\n",
       "      <td>Adults In Motion</td>\n",
       "      <td>How are YOU getting active and outdoors Tell u...</td>\n",
       "      <td>False</td>\n",
       "    </tr>\n",
       "    <tr>\n",
       "      <th>...</th>\n",
       "      <td>...</td>\n",
       "      <td>...</td>\n",
       "      <td>...</td>\n",
       "      <td>...</td>\n",
       "      <td>...</td>\n",
       "      <td>...</td>\n",
       "      <td>...</td>\n",
       "      <td>...</td>\n",
       "      <td>...</td>\n",
       "      <td>...</td>\n",
       "      <td>...</td>\n",
       "      <td>...</td>\n",
       "      <td>...</td>\n",
       "      <td>...</td>\n",
       "      <td>...</td>\n",
       "      <td>...</td>\n",
       "      <td>...</td>\n",
       "    </tr>\n",
       "    <tr>\n",
       "      <th>184738</th>\n",
       "      <td>184742</td>\n",
       "      <td>994921098260213760</td>\n",
       "      <td>2018-09-26 01:28:44</td>\n",
       "      <td>dataforgoodwr</td>\n",
       "      <td>We were really happy to join @dataforgoodyyz a...</td>\n",
       "      <td>['https://t.co/EhOsdVo0fk']</td>\n",
       "      <td>2.0</td>\n",
       "      <td>0.0</td>\n",
       "      <td>https://twitter.com/i/web/status/1044760651112...</td>\n",
       "      <td>[]</td>\n",
       "      <td>False</td>\n",
       "      <td>True</td>\n",
       "      <td>False</td>\n",
       "      <td>False</td>\n",
       "      <td>Data For Good</td>\n",
       "      <td>We were really happy to join dataforgoodyyz at...</td>\n",
       "      <td>False</td>\n",
       "    </tr>\n",
       "    <tr>\n",
       "      <th>184739</th>\n",
       "      <td>184743</td>\n",
       "      <td>994921098260213760</td>\n",
       "      <td>2018-09-26 01:22:20</td>\n",
       "      <td>dataforgoodwr</td>\n",
       "      <td>RT @dataforgoodyyz: We're happy to see the dat...</td>\n",
       "      <td>[]</td>\n",
       "      <td>0.0</td>\n",
       "      <td>3.0</td>\n",
       "      <td>NaN</td>\n",
       "      <td>[]</td>\n",
       "      <td>False</td>\n",
       "      <td>False</td>\n",
       "      <td>False</td>\n",
       "      <td>True</td>\n",
       "      <td>Data For Good</td>\n",
       "      <td>Were happy to see the data venture spreading a...</td>\n",
       "      <td>False</td>\n",
       "    </tr>\n",
       "    <tr>\n",
       "      <th>184740</th>\n",
       "      <td>184744</td>\n",
       "      <td>994921098260213760</td>\n",
       "      <td>2018-09-18 01:23:13</td>\n",
       "      <td>dataforgoodwr</td>\n",
       "      <td>@Data_for_Good @dataforgoodyyz https://t.co/7r...</td>\n",
       "      <td>['https://t.co/7rGBtUfOuK']</td>\n",
       "      <td>1.0</td>\n",
       "      <td>0.0</td>\n",
       "      <td>https://twitter.com/dataforgoodwr/status/10418...</td>\n",
       "      <td>[]</td>\n",
       "      <td>False</td>\n",
       "      <td>True</td>\n",
       "      <td>False</td>\n",
       "      <td>False</td>\n",
       "      <td>Data For Good</td>\n",
       "      <td>DataforGood dataforgoodyyz</td>\n",
       "      <td>False</td>\n",
       "    </tr>\n",
       "    <tr>\n",
       "      <th>184741</th>\n",
       "      <td>184745</td>\n",
       "      <td>994921098260213760</td>\n",
       "      <td>2018-09-18 01:15:06</td>\n",
       "      <td>dataforgoodwr</td>\n",
       "      <td>We are live!  If you live in Waterloo Region a...</td>\n",
       "      <td>['https://t.co/At80jnEQtt']</td>\n",
       "      <td>9.0</td>\n",
       "      <td>5.0</td>\n",
       "      <td>https://twitter.com/i/web/status/1041858116181...</td>\n",
       "      <td>[]</td>\n",
       "      <td>False</td>\n",
       "      <td>False</td>\n",
       "      <td>False</td>\n",
       "      <td>False</td>\n",
       "      <td>Data For Good</td>\n",
       "      <td>We are live  If you live in Waterloo Region an...</td>\n",
       "      <td>False</td>\n",
       "    </tr>\n",
       "    <tr>\n",
       "      <th>184742</th>\n",
       "      <td>184746</td>\n",
       "      <td>994921098260213760</td>\n",
       "      <td>2018-09-18 01:13:43</td>\n",
       "      <td>dataforgoodwr</td>\n",
       "      <td>Good luck @dataforgoodyyz!  Excited to start o...</td>\n",
       "      <td>['https://t.co/eBhziiMAKz']</td>\n",
       "      <td>2.0</td>\n",
       "      <td>0.0</td>\n",
       "      <td>https://twitter.com/dataforgoodyyz/status/1038...</td>\n",
       "      <td>[]</td>\n",
       "      <td>False</td>\n",
       "      <td>True</td>\n",
       "      <td>False</td>\n",
       "      <td>False</td>\n",
       "      <td>Data For Good</td>\n",
       "      <td>Good luck dataforgoodyyz  Excited to start org...</td>\n",
       "      <td>False</td>\n",
       "    </tr>\n",
       "  </tbody>\n",
       "</table>\n",
       "<p>184743 rows × 17 columns</p>\n",
       "</div>"
      ],
      "text/plain": [
       "        tweet_id             user_id           created_at    screen_name  \\\n",
       "0              0           885747516  2021-02-26 17:59:51   AIMkitchener   \n",
       "1              1           885747516  2021-02-24 19:34:45   AIMkitchener   \n",
       "2              2           885747516  2021-02-15 18:14:22   AIMkitchener   \n",
       "3              3           885747516  2021-02-01 17:54:56   AIMkitchener   \n",
       "4              4           885747516  2021-01-15 18:40:36   AIMkitchener   \n",
       "...          ...                 ...                  ...            ...   \n",
       "184738    184742  994921098260213760  2018-09-26 01:28:44  dataforgoodwr   \n",
       "184739    184743  994921098260213760  2018-09-26 01:22:20  dataforgoodwr   \n",
       "184740    184744  994921098260213760  2018-09-18 01:23:13  dataforgoodwr   \n",
       "184741    184745  994921098260213760  2018-09-18 01:15:06  dataforgoodwr   \n",
       "184742    184746  994921098260213760  2018-09-18 01:13:43  dataforgoodwr   \n",
       "\n",
       "                                                     text  \\\n",
       "0       🍅 What will your garden look like this year? 🪴...   \n",
       "1       Virtual connecting is not the next big thing, ...   \n",
       "2       “Treat your friends like family and your famil...   \n",
       "3       🤗 Sending virtual Love Squeezes to anyone who ...   \n",
       "4       How are YOU getting active and outdoors?! Tell...   \n",
       "...                                                   ...   \n",
       "184738  We were really happy to join @dataforgoodyyz a...   \n",
       "184739  RT @dataforgoodyyz: We're happy to see the dat...   \n",
       "184740  @Data_for_Good @dataforgoodyyz https://t.co/7r...   \n",
       "184741  We are live!  If you live in Waterloo Region a...   \n",
       "184742  Good luck @dataforgoodyyz!  Excited to start o...   \n",
       "\n",
       "                               urls  favorite_count  retweet_count  \\\n",
       "0       ['https://t.co/g1djW5JMVT']             2.0            0.0   \n",
       "1       ['https://t.co/b1Ts6V60hS']             1.0            0.0   \n",
       "2       ['https://t.co/jpFQ3K5oSK']             1.0            0.0   \n",
       "3       ['https://t.co/zk4ZZm0cZa']             1.0            0.0   \n",
       "4       ['https://t.co/eZB1kEPYUz']             1.0            0.0   \n",
       "...                             ...             ...            ...   \n",
       "184738  ['https://t.co/EhOsdVo0fk']             2.0            0.0   \n",
       "184739                           []             0.0            3.0   \n",
       "184740  ['https://t.co/7rGBtUfOuK']             1.0            0.0   \n",
       "184741  ['https://t.co/At80jnEQtt']             9.0            5.0   \n",
       "184742  ['https://t.co/eBhziiMAKz']             2.0            0.0   \n",
       "\n",
       "                                                      URL  \\\n",
       "0       https://twitter.com/i/web/status/1365360946378...   \n",
       "1       https://twitter.com/i/web/status/1364660054046...   \n",
       "2       https://twitter.com/i/web/status/1361378331254...   \n",
       "3       https://twitter.com/i/web/status/1356300010737...   \n",
       "4                                                     NaN   \n",
       "...                                                   ...   \n",
       "184738  https://twitter.com/i/web/status/1044760651112...   \n",
       "184739                                                NaN   \n",
       "184740  https://twitter.com/dataforgoodwr/status/10418...   \n",
       "184741  https://twitter.com/i/web/status/1041858116181...   \n",
       "184742  https://twitter.com/dataforgoodyyz/status/1038...   \n",
       "\n",
       "                                              hashtags has_media is_quote  \\\n",
       "0                                                   []     False    False   \n",
       "1                                                   []     False    False   \n",
       "2                                                   []     False    False   \n",
       "3       ['VirtualHug', 'SpreadKindness', 'SpreadLove']     False    False   \n",
       "4                                                   []      True    False   \n",
       "...                                                ...       ...      ...   \n",
       "184738                                              []     False     True   \n",
       "184739                                              []     False    False   \n",
       "184740                                              []     False     True   \n",
       "184741                                              []     False    False   \n",
       "184742                                              []     False     True   \n",
       "\n",
       "       is_reply is_retweet Organization Name  \\\n",
       "0         False      False  Adults In Motion   \n",
       "1         False      False  Adults In Motion   \n",
       "2         False      False  Adults In Motion   \n",
       "3         False      False  Adults In Motion   \n",
       "4         False      False  Adults In Motion   \n",
       "...         ...        ...               ...   \n",
       "184738    False      False     Data For Good   \n",
       "184739    False       True     Data For Good   \n",
       "184740    False      False     Data For Good   \n",
       "184741    False      False     Data For Good   \n",
       "184742    False      False     Data For Good   \n",
       "\n",
       "                                               text_clean  hashashtag  \n",
       "0        What will your garden look like this year  \\n...       False  \n",
       "1       Virtual connecting is not the next big thing i...       False  \n",
       "2       “Treat your friends like family and your famil...       False  \n",
       "3        Sending virtual Love Squeezes to anyone who n...        True  \n",
       "4       How are YOU getting active and outdoors Tell u...       False  \n",
       "...                                                   ...         ...  \n",
       "184738  We were really happy to join dataforgoodyyz at...       False  \n",
       "184739  Were happy to see the data venture spreading a...       False  \n",
       "184740                        DataforGood dataforgoodyyz        False  \n",
       "184741  We are live  If you live in Waterloo Region an...       False  \n",
       "184742  Good luck dataforgoodyyz  Excited to start org...       False  \n",
       "\n",
       "[184743 rows x 17 columns]"
      ]
     },
     "execution_count": 31,
     "metadata": {},
     "output_type": "execute_result"
    }
   ],
   "source": [
    "#need to create a column - hashtag empty\n",
    "df_tweets1['hashashtag'] = np.where(df_tweets1['hashtags']!= '[]', True, False)\n",
    "df_tweets1"
   ]
  },
  {
   "cell_type": "code",
   "execution_count": 44,
   "metadata": {},
   "outputs": [
    {
     "data": {
      "text/plain": [
       "<matplotlib.axes._subplots.AxesSubplot at 0x7feb2917c690>"
      ]
     },
     "execution_count": 44,
     "metadata": {},
     "output_type": "execute_result"
    },
    {
     "data": {
      "image/png": "[encoded data removed]",
      "text/plain": [
       "<Figure size 432x288 with 1 Axes>"
      ]
     },
     "metadata": {
      "needs_background": "light"
     },
     "output_type": "display_data"
    }
   ],
   "source": [
    "sns.countplot(x=\"is_reply\", data=df_tweets1, palette=\"Greens_d\")"
   ]
  },
  {
   "cell_type": "code",
   "execution_count": 46,
   "metadata": {},
   "outputs": [
    {
     "data": {
      "text/plain": [
       "<matplotlib.axes._subplots.AxesSubplot at 0x7feb28c21950>"
      ]
     },
     "execution_count": 46,
     "metadata": {},
     "output_type": "execute_result"
    },
    {
     "data": {
      "image/png": "[encoded data removed]",
      "text/plain": [
       "<Figure size 432x288 with 1 Axes>"
      ]
     },
     "metadata": {
      "needs_background": "light"
     },
     "output_type": "display_data"
    }
   ],
   "source": [
    "sns.countplot(x=\"has_media\", data=df_tweets1, palette=\"Greens_d\")b"
   ]
  },
  {
   "cell_type": "code",
   "execution_count": 49,
   "metadata": {},
   "outputs": [
    {
     "data": {
      "text/plain": [
       "<matplotlib.axes._subplots.AxesSubplot at 0x7feb26a77250>"
      ]
     },
     "execution_count": 49,
     "metadata": {},
     "output_type": "execute_result"
    },
    {
     "data": {
      "image/png": "[encoded data removed]",
      "text/plain": [
       "<Figure size 432x288 with 1 Axes>"
      ]
     },
     "metadata": {
      "needs_background": "light"
     },
     "output_type": "display_data"
    }
   ],
   "source": [
    "sns.countplot(x=\"is_quote\", data=df_tweets1, palette=\"Greens_d\")"
   ]
  },
  {
   "cell_type": "code",
   "execution_count": 50,
   "metadata": {},
   "outputs": [
    {
     "data": {
      "text/plain": [
       "<matplotlib.axes._subplots.AxesSubplot at 0x7feb292de1d0>"
      ]
     },
     "execution_count": 50,
     "metadata": {},
     "output_type": "execute_result"
    },
    {
     "data": {
      "image/png": "[encoded data removed]",
      "text/plain": [
       "<Figure size 432x288 with 1 Axes>"
      ]
     },
     "metadata": {
      "needs_background": "light"
     },
     "output_type": "display_data"
    }
   ],
   "source": [
    "sns.countplot(x=\"is_retweet\", data=df_tweets1, palette=\"Greens_d\")"
   ]
  },
  {
   "cell_type": "code",
   "execution_count": 34,
   "metadata": {},
   "outputs": [
    {
     "data": {
      "text/plain": [
       "<matplotlib.axes._subplots.AxesSubplot at 0x7feb185234d0>"
      ]
     },
     "execution_count": 34,
     "metadata": {},
     "output_type": "execute_result"
    },
    {
     "data": {
      "image/png": "[encoded data removed]",
      "text/plain": [
       "<Figure size 432x288 with 1 Axes>"
      ]
     },
     "metadata": {
      "needs_background": "light"
     },
     "output_type": "display_data"
    }
   ],
   "source": [
    "sns.stripplot(x=\"hashashtag\", y=\"favorite_count\", data=df_tweets1) "
   ]
  },
  {
   "cell_type": "code",
   "execution_count": 36,
   "metadata": {},
   "outputs": [
    {
     "data": {
      "text/plain": [
       "<matplotlib.axes._subplots.AxesSubplot at 0x7feb18d7eb50>"
      ]
     },
     "execution_count": 36,
     "metadata": {},
     "output_type": "execute_result"
    },
    {
     "data": {
      "image/png": "[encoded data removed]",
      "text/plain": [
       "<Figure size 432x288 with 1 Axes>"
      ]
     },
     "metadata": {
      "needs_background": "light"
     },
     "output_type": "display_data"
    }
   ],
   "source": [
    "sns.stripplot(x=\"hashashtag\", y=\"retweet_count\", data=df_tweets1)"
   ]
  },
  {
   "cell_type": "code",
   "execution_count": 40,
   "metadata": {},
   "outputs": [
    {
     "data": {
      "text/plain": [
       "<bound method NDFrame.describe of         tweet_id             user_id           created_at    screen_name  \\\n",
       "0              0           885747516  2021-02-26 17:59:51   AIMkitchener   \n",
       "1              1           885747516  2021-02-24 19:34:45   AIMkitchener   \n",
       "2              2           885747516  2021-02-15 18:14:22   AIMkitchener   \n",
       "3              3           885747516  2021-02-01 17:54:56   AIMkitchener   \n",
       "4              4           885747516  2021-01-15 18:40:36   AIMkitchener   \n",
       "...          ...                 ...                  ...            ...   \n",
       "184735    184739  994921098260213760  2018-10-17 22:49:52  dataforgoodwr   \n",
       "184738    184742  994921098260213760  2018-09-26 01:28:44  dataforgoodwr   \n",
       "184740    184744  994921098260213760  2018-09-18 01:23:13  dataforgoodwr   \n",
       "184741    184745  994921098260213760  2018-09-18 01:15:06  dataforgoodwr   \n",
       "184742    184746  994921098260213760  2018-09-18 01:13:43  dataforgoodwr   \n",
       "\n",
       "                                                     text  \\\n",
       "0       🍅 What will your garden look like this year? 🪴...   \n",
       "1       Virtual connecting is not the next big thing, ...   \n",
       "2       “Treat your friends like family and your famil...   \n",
       "3       🤗 Sending virtual Love Squeezes to anyone who ...   \n",
       "4       How are YOU getting active and outdoors?! Tell...   \n",
       "...                                                   ...   \n",
       "184735  We are pleased to invite you to Data for Good-...   \n",
       "184738  We were really happy to join @dataforgoodyyz a...   \n",
       "184740  @Data_for_Good @dataforgoodyyz https://t.co/7r...   \n",
       "184741  We are live!  If you live in Waterloo Region a...   \n",
       "184742  Good luck @dataforgoodyyz!  Excited to start o...   \n",
       "\n",
       "                               urls  favorite_count  retweet_count  \\\n",
       "0       ['https://t.co/g1djW5JMVT']             2.0            0.0   \n",
       "1       ['https://t.co/b1Ts6V60hS']             1.0            0.0   \n",
       "2       ['https://t.co/jpFQ3K5oSK']             1.0            0.0   \n",
       "3       ['https://t.co/zk4ZZm0cZa']             1.0            0.0   \n",
       "4       ['https://t.co/eZB1kEPYUz']             1.0            0.0   \n",
       "...                             ...             ...            ...   \n",
       "184735  ['https://t.co/9tWRzBsRu4']             4.0            3.0   \n",
       "184738  ['https://t.co/EhOsdVo0fk']             2.0            0.0   \n",
       "184740  ['https://t.co/7rGBtUfOuK']             1.0            0.0   \n",
       "184741  ['https://t.co/At80jnEQtt']             9.0            5.0   \n",
       "184742  ['https://t.co/eBhziiMAKz']             2.0            0.0   \n",
       "\n",
       "                                                      URL  \\\n",
       "0       https://twitter.com/i/web/status/1365360946378...   \n",
       "1       https://twitter.com/i/web/status/1364660054046...   \n",
       "2       https://twitter.com/i/web/status/1361378331254...   \n",
       "3       https://twitter.com/i/web/status/1356300010737...   \n",
       "4                                                     NaN   \n",
       "...                                                   ...   \n",
       "184735  https://twitter.com/i/web/status/1052693201910...   \n",
       "184738  https://twitter.com/i/web/status/1044760651112...   \n",
       "184740  https://twitter.com/dataforgoodwr/status/10418...   \n",
       "184741  https://twitter.com/i/web/status/1041858116181...   \n",
       "184742  https://twitter.com/dataforgoodyyz/status/1038...   \n",
       "\n",
       "                                              hashtags has_media is_quote  \\\n",
       "0                                                   []     False    False   \n",
       "1                                                   []     False    False   \n",
       "2                                                   []     False    False   \n",
       "3       ['VirtualHug', 'SpreadKindness', 'SpreadLove']     False    False   \n",
       "4                                                   []      True    False   \n",
       "...                                                ...       ...      ...   \n",
       "184735                                              []     False    False   \n",
       "184738                                              []     False     True   \n",
       "184740                                              []     False     True   \n",
       "184741                                              []     False    False   \n",
       "184742                                              []     False     True   \n",
       "\n",
       "       is_reply is_retweet Organization Name  \\\n",
       "0         False      False  Adults In Motion   \n",
       "1         False      False  Adults In Motion   \n",
       "2         False      False  Adults In Motion   \n",
       "3         False      False  Adults In Motion   \n",
       "4         False      False  Adults In Motion   \n",
       "...         ...        ...               ...   \n",
       "184735    False      False     Data For Good   \n",
       "184738    False      False     Data For Good   \n",
       "184740    False      False     Data For Good   \n",
       "184741    False      False     Data For Good   \n",
       "184742    False      False     Data For Good   \n",
       "\n",
       "                                               text_clean  hashashtag  \n",
       "0        What will your garden look like this year  \\n...       False  \n",
       "1       Virtual connecting is not the next big thing i...       False  \n",
       "2       “Treat your friends like family and your famil...       False  \n",
       "3        Sending virtual Love Squeezes to anyone who n...        True  \n",
       "4       How are YOU getting active and outdoors Tell u...       False  \n",
       "...                                                   ...         ...  \n",
       "184735  We are pleased to invite you to Data for Good ...       False  \n",
       "184738  We were really happy to join dataforgoodyyz at...       False  \n",
       "184740                        DataforGood dataforgoodyyz        False  \n",
       "184741  We are live  If you live in Waterloo Region an...       False  \n",
       "184742  Good luck dataforgoodyyz  Excited to start org...       False  \n",
       "\n",
       "[124284 rows x 17 columns]>"
      ]
     },
     "execution_count": 40,
     "metadata": {},
     "output_type": "execute_result"
    }
   ],
   "source": [
    "#remove is retweet\n",
    "df_tweets1_no_retweet = df_tweets1[df_tweets1.is_retweet == False ]\n",
    "df_tweets1_no_retweet.describe"
   ]
  },
  {
   "cell_type": "code",
   "execution_count": 41,
   "metadata": {},
   "outputs": [
    {
     "data": {
      "text/plain": [
       "<matplotlib.axes._subplots.AxesSubplot at 0x7feb28d57c10>"
      ]
     },
     "execution_count": 41,
     "metadata": {},
     "output_type": "execute_result"
    },
    {
     "data": {
      "image/png": "[encoded data removed]",
      "text/plain": [
       "<Figure size 432x288 with 1 Axes>"
      ]
     },
     "metadata": {
      "needs_background": "light"
     },
     "output_type": "display_data"
    }
   ],
   "source": [
    "sns.stripplot(x=\"hashashtag\", y=\"favorite_count\", data=df_tweets1_no_retweet) "
   ]
  },
  {
   "cell_type": "code",
   "execution_count": 42,
   "metadata": {},
   "outputs": [
    {
     "data": {
      "text/plain": [
       "<matplotlib.axes._subplots.AxesSubplot at 0x7feb1e166810>"
      ]
     },
     "execution_count": 42,
     "metadata": {},
     "output_type": "execute_result"
    },
    {
     "data": {
      "image/png": "[encoded data removed]",
      "text/plain": [
       "<Figure size 432x288 with 1 Axes>"
      ]
     },
     "metadata": {
      "needs_background": "light"
     },
     "output_type": "display_data"
    }
   ],
   "source": [
    "sns.stripplot(x=\"hashashtag\", y=\"retweet_count\", data=df_tweets1_no_retweet)"
   ]
  },
  {
   "cell_type": "code",
   "execution_count": null,
   "metadata": {},
   "outputs": [],
   "source": [
    "sns.countplot(x=\"hashashtag\", data=df_tweets1, palette=\"Greens_d\")"
   ]
  },
  {
   "cell_type": "code",
   "execution_count": 45,
   "metadata": {},
   "outputs": [],
   "source": [
    "#average favourites/retweet per divisions - is quote etc\n"
   ]
  },
  {
   "cell_type": "code",
   "execution_count": null,
   "metadata": {},
   "outputs": [],
   "source": []
  },
  {
   "cell_type": "code",
   "execution_count": null,
   "metadata": {},
   "outputs": [],
   "source": []
  },
  {
   "cell_type": "code",
   "execution_count": null,
   "metadata": {},
   "outputs": [],
   "source": []
  }
 ],
 "metadata": {
  "kernelspec": {
   "display_name": "Python 3",
   "language": "python",
   "name": "python3"
  },
  "language_info": {
   "codemirror_mode": {
    "name": "ipython",
    "version": 3
   },
   "file_extension": ".py",
   "mimetype": "text/x-python",
   "name": "python",
   "nbconvert_exporter": "python",
   "pygments_lexer": "ipython3",
   "version": "3.7.6"
  }
 },
 "nbformat": 4,
 "nbformat_minor": 5
}
